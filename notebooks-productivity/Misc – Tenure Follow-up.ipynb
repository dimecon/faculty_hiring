{
 "cells": [
  {
   "cell_type": "code",
   "execution_count": 1,
   "metadata": {
    "collapsed": false
   },
   "outputs": [
    {
     "name": "stderr",
     "output_type": "stream",
     "text": [
      "/usr/local/lib/python2.7/site-packages/sklearn/cross_validation.py:44: DeprecationWarning: This module was deprecated in version 0.18 in favor of the model_selection module into which all the refactored classes and functions are moved. Also note that the interface of the new CV iterators are different from that of this module. This module will be removed in 0.20.\n",
      "  \"This module will be removed in 0.20.\", DeprecationWarning)\n"
     ]
    }
   ],
   "source": [
    "from __future__ import division\n",
    "\n",
    "from faculty_hiring.misc.util import *\n",
    "from faculty_hiring.misc.plotting import *  # Definitions for LABEL_SIZE and such\n",
    "from faculty_hiring.misc.gaussian_kde import gaussian_kde\n",
    "from faculty_hiring.parse import faculty_parser, institution_parser\n",
    "from faculty_hiring.misc.productivity import faculty_at_institution\n",
    "from faculty_hiring.parse import load\n",
    "from faculty_hiring.parse.nces import parse_phds_awarded\n",
    "from faculty_hiring.misc.subfield import topic_descriptions, longer_topic_descriptions, num_topics \n",
    "\n",
    "from mpl_toolkits.axes_grid1 import make_axes_locatable\n",
    "from scipy.stats.stats import pearsonr, mannwhitneyu, ttest_ind\n",
    "from scipy.stats import ttest_ind, ks_2samp, chi2_contingency, mannwhitneyu\n",
    "from scipy.special import gamma as gammaf\n",
    "from sklearn.decomposition import PCA\n",
    "from sklearn import linear_model\n",
    "from sklearn.cross_validation import StratifiedKFold, LeaveOneOut\n",
    "from sklearn.ensemble import RandomForestClassifier, ExtraTreesClassifier\n",
    "from sklearn.metrics import roc_curve, auc\n",
    "from collections import Counter, defaultdict\n",
    "from scipy import interp\n",
    "import statsmodels.api as sm\n",
    "import numpy as np\n",
    "import math\n",
    "import scipy as sp\n",
    "import pandas as pd\n",
    "import os\n",
    "import mpld3\n",
    "import palettable\n",
    "\n",
    "sig_level = 0.05\n",
    "\n",
    "# File locations\n",
    "faculty_file = '/Users/allisonmorgan/Documents/faculty_hiring/publication_data/current_data/faculty_cs_CURRENT.txt'\n",
    "inst_file = '/Users/allisonmorgan/Documents/faculty_hiring/publication_data/current_data/inst_cs_CURRENT.txt'\n",
    "figures_dir = '/Users/allisonmorgan/Code/src/github.com/allisonmorgan/faculty_hiring/notebooks-productivity/figures/'\n",
    "#nces_table = '/Users/samway/Documents/Work/ClausetLab/projects/faculty_hiring/data/nces_table.txt'\n",
    "\n",
    "# (Optional, these are for loading publication profiles)\n",
    "dblp_dir = '/Users/allisonmorgan/Documents/faculty_hiring/publication_data/profiles_DBLP_Nov16/'"
   ]
  },
  {
   "cell_type": "code",
   "execution_count": 2,
   "metadata": {
    "collapsed": false
   },
   "outputs": [],
   "source": [
    "inst = institution_parser.parse_institution_records(open(inst_file))\n",
    "asst_faculty = load.load_assistant_profs(open(faculty_file), inst)\n",
    "ignore = ['All others', 'UNKNOWN', 'CUNY Graduate Center']\n",
    "\n",
    "load.load_all_publications(asst_faculty, dblp_dir)"
   ]
  },
  {
   "cell_type": "code",
   "execution_count": 3,
   "metadata": {
    "collapsed": true
   },
   "outputs": [],
   "source": [
    "valid_titles = ['Assistant Professor', 'Associate Professor', 'Full Professor']"
   ]
  },
  {
   "cell_type": "code",
   "execution_count": 4,
   "metadata": {
    "collapsed": false
   },
   "outputs": [
    {
     "name": "stdout",
     "output_type": "stream",
     "text": [
      "Updated 555 profiles!\n"
     ]
    }
   ],
   "source": [
    "followup_data = '/Users/allisonmorgan/Code/src/github.com/allisonmorgan/faculty_hiring/notebooks-productivity/Finalized_Spreadsheet_Nov21.tsv'\n",
    "\n",
    "def load_followup_data(faculty, followup_file):\n",
    "    \"\"\" Loads the follow-up spreadsheet data collected by BuffTurkers in Nov2016 \"\"\"\n",
    "    df = pd.read_csv(followup_file, sep='\\t')\n",
    "    profiles_updated = 0\n",
    "    \n",
    "    for person in faculty:\n",
    "        # When collection assignements are created, these fields are written out:\n",
    "        # person.facultyName, person.place, person.current\n",
    "        num_records = len(df[df['Faculty name'] == person.facultyName])\n",
    "        if num_records == 0: # No matches, this is fine\n",
    "            continue  \n",
    "        elif num_records == 1: # One match, this is great\n",
    "            row = df[df['Faculty name'] == person.facultyName]\n",
    "            if row['Institution (2011)'].iloc[0] != person.place:\n",
    "                continue\n",
    "            person['followup_title'] = row['Job Title (2016)'].iloc[0]\n",
    "            person['followup_location'] = row['Institution (2016)'].iloc[0]\n",
    "            person['followup_department'] = row['Department (2016)'].iloc[0]\n",
    "            profiles_updated += 1\n",
    "        else: # Multiple matches, this... is bad. Blow up.\n",
    "            raise ValueError('Multiple records detected!')\n",
    "            \n",
    "    assert (profiles_updated <= len(df))\n",
    "    print 'Updated %d profiles!' % (profiles_updated)\n",
    "\n",
    "load_followup_data(asst_faculty, followup_data)"
   ]
  },
  {
   "cell_type": "markdown",
   "metadata": {},
   "source": [
    "## Compare with Publications"
   ]
  },
  {
   "cell_type": "code",
   "execution_count": 5,
   "metadata": {
    "collapsed": false
   },
   "outputs": [
    {
     "name": "stdout",
     "output_type": "stream",
     "text": [
      "Counter({'Assistant Professor -> Associate Professor': 366, 'Assistant Professor -> Assistant Professor': 104, 'Assistant Professor -> NOT TT': 68, 'Assistant Professor -> Full Professor': 17})\n",
      "Counter({'STAYED': 404, 'MOVED': 151})\n",
      "Counter({'STAYED IN ACADEMIA': 78, 'LEFT ACADEMIA': 73})\n"
     ]
    }
   ],
   "source": [
    "trajectories_position = Counter()\n",
    "trajectories_location = Counter()\n",
    "trajectories_moved_and_left = Counter()\n",
    "for person in asst_faculty:\n",
    "    if 'followup_title' in person and 'current' in person:\n",
    "        key = \"%s -> %s\" % (person['current'], person['followup_title'])\n",
    "        trajectories_position[key] += 1\n",
    "        \n",
    "        key = \"%s\" % (\"STAYED\" if person['followup_location'] == person['place'] else \"MOVED\")\n",
    "        trajectories_location[key] += 1\n",
    "        \n",
    "        if person['followup_location'] != person['place']:\n",
    "            key = \"%s\" % (\"LEFT ACADEMIA\" if person['followup_location'] == \"NOT IN ACADEMIA\" else \"STAYED IN ACADEMIA\")\n",
    "            trajectories_moved_and_left[key] += 1\n",
    "        \n",
    "print trajectories_position\n",
    "print trajectories_location\n",
    "print trajectories_moved_and_left"
   ]
  },
  {
   "cell_type": "code",
   "execution_count": 6,
   "metadata": {
    "collapsed": false
   },
   "outputs": [
    {
     "data": {
      "text/plain": [
       "0.5165562913907285"
      ]
     },
     "execution_count": 6,
     "metadata": {},
     "output_type": "execute_result"
    }
   ],
   "source": [
    "78/(151)"
   ]
  },
  {
   "cell_type": "code",
   "execution_count": 7,
   "metadata": {
    "collapsed": false
   },
   "outputs": [],
   "source": [
    "# Number of publications for all current assistant faculty of a university. Adjusted for inflation\n",
    "# Set limit_by_years_post_hire flag to True to consider only the contributions within the first 5 \n",
    "# years of a researcher's career.\n",
    "limit_by_years_post_hire = True\n",
    "ignore = ['All others', 'UNKNOWN', 'CUNY Graduate Center']\n",
    "pubs_by_inst = {}\n",
    "pubs_by_year_by_inst = {}\n",
    "for (name, inst_data) in inst.items():\n",
    "    if name in ignore:\n",
    "        continue\n",
    "    current_faculty = faculty_at_institution(name, asst_faculty)\n",
    "    n_pubs = []; n_pubs_by_year = [];\n",
    "    for person in current_faculty:\n",
    "        start = person.first_asst_job_year\n",
    "        if limit_by_years_post_hire:\n",
    "            end = np.min([2012, person.first_asst_job_year + 5])\n",
    "        else:\n",
    "            end = 2012\n",
    "        career_length = end - start\n",
    "        \n",
    "        if person.__contains__('dblp_pubs'):\n",
    "            contribution = 0\n",
    "            for pub in person.dblp_pubs:\n",
    "                if 'year' in pub \\\n",
    "                      and pub['year'] >= start \\\n",
    "                      and pub['year'] < end \\\n",
    "                      and pub['pub_type'] in ['inproceedings', 'article']:\n",
    "                    contribution += inflation_adjust(pub['year'])\n",
    "            \n",
    "            n_pubs.append((person.facultyName, contribution))\n",
    "            n_pubs_by_year.append((person.facultyName, contribution/float(career_length)))\n",
    "    if len(n_pubs) > 0:\n",
    "        pubs_by_inst[name] = n_pubs\n",
    "        pubs_by_year_by_inst[name] = n_pubs_by_year"
   ]
  },
  {
   "cell_type": "code",
   "execution_count": 8,
   "metadata": {
    "collapsed": false
   },
   "outputs": [],
   "source": [
    "# Compare the average publication rate of a person in their first five years, \n",
    "# to the average publication rate of faculty within their first five years at\n",
    "# both the institution they came from and went to\n",
    "publication_trajectories = []\n",
    "for person in asst_faculty:\n",
    "    if 'followup_title' in person and person.__contains__('dblp_pubs'):\n",
    "        initial_institution = person.current_job()[0]\n",
    "        final_institution = person['followup_location']\n",
    "        \n",
    "        # Get average publication rate of the young faculty at either institution\n",
    "        if initial_institution == final_institution:\n",
    "            # Don't consider those people who took promotions at the same institution.\n",
    "            continue\n",
    "        # This will skip anyone who left academia (i.e. their final_institution == \"NOT TT\")\n",
    "        if pubs_by_year_by_inst.has_key(initial_institution) and pubs_by_year_by_inst.has_key(final_institution):\n",
    "            # TODO: remove people with count == 0. Those people have zero pubs to their name. This shouldn't happen right?\n",
    "            initial_counts = [count for (_, count) in pubs_by_year_by_inst[initial_institution] if count > 0]\n",
    "            initial_pub_rate = np.mean([np.log(count) for count in initial_counts])\n",
    "            initial_pub_std = np.std([np.log(count) for count in initial_counts])\n",
    "            \n",
    "            final_counts = [count for (_, count) in pubs_by_year_by_inst[final_institution] if count > 0]\n",
    "            final_pub_rate = np.mean([np.log(count) for count in final_counts])\n",
    "            final_pub_std = np.std([np.log(count) for count in final_counts])\n",
    "            \n",
    "            # Get this person's publication rate\n",
    "            start = person.current_job()[1]\n",
    "            end = np.min([2012, start + 5])\n",
    "            career_length = end - start\n",
    "        \n",
    "            contribution = 0\n",
    "            for pub in person.dblp_pubs:\n",
    "                if 'year' in pub \\\n",
    "                      and pub['year'] >= start \\\n",
    "                      and pub['year'] < end \\\n",
    "                      and pub['pub_type'] in ['inproceedings', 'article']:\n",
    "                    contribution += inflation_adjust(pub['year'])\n",
    "            personal_pub_rate = (contribution/float(career_length))\n",
    "            \n",
    "            publication_trajectories.append((\n",
    "                    (np.log(personal_pub_rate), inst[initial_institution]['pi'], inst[final_institution]['pi']), \n",
    "                    (initial_pub_rate, initial_pub_std), \n",
    "                    (final_pub_rate, final_pub_std)\n",
    "                ))"
   ]
  },
  {
   "cell_type": "code",
   "execution_count": 9,
   "metadata": {
    "collapsed": false
   },
   "outputs": [
    {
     "name": "stdout",
     "output_type": "stream",
     "text": [
      "('Number of faculty who changed universities (but stayed in academia)', 78)\n",
      "('Median personal publication rate', 3.7121406784047739)\n"
     ]
    }
   ],
   "source": [
    "print(\"Number of faculty who changed universities (but stayed in academia)\", len(publication_trajectories))\n",
    "personal_pub_rates = [r for ((r, _, _) , _, _ ) in publication_trajectories]\n",
    "print(\"Median personal publication rate\", np.exp(np.median(personal_pub_rates)))"
   ]
  },
  {
   "cell_type": "code",
   "execution_count": 10,
   "metadata": {
    "collapsed": false
   },
   "outputs": [],
   "source": [
    "# How many times was the final institution a better fit?\n",
    "final_moved_up = 0; num_people_moved_up = 0;\n",
    "final_moved_down = 0; num_people_moved_down = 0;\n",
    "final_vs_delta_rank = defaultdict(list)\n",
    "#diffs_mu = []; diffs_sigma = [];\n",
    "# Everything has alreday been log-ed above ^\n",
    "for ((personal, initial_rank, final_rank), (initial_mu, initial_sigma), (final_mu, final_sigma)) in publication_trajectories:\n",
    "    likelihood_of_final = sp.stats.norm.pdf(personal, final_mu, final_sigma)\n",
    "    likelihood_of_initial = sp.stats.norm.pdf(personal, initial_mu, initial_sigma)\n",
    "    \n",
    "    #diffs_mu.append(initial_mu - final_mu)\n",
    "    #diffs_sigma.append(initial_sigma - final_sigma)\n",
    "    \n",
    "    # Did the person make a decrease in rank? Or did they move up?\n",
    "    delta_rank = (final_rank - initial_rank)\n",
    "    similar_to_final = (likelihood_of_final > likelihood_of_initial)\n",
    "    if delta_rank > 0:\n",
    "        if similar_to_final:\n",
    "            final_moved_up += 1\n",
    "        num_people_moved_up += 1\n",
    "    else: \n",
    "        if similar_to_final:\n",
    "            final_moved_down += 1\n",
    "        num_people_moved_down += 1\n",
    "    \n",
    "    final_vs_delta_rank[delta_rank].append(similar_to_final)"
   ]
  },
  {
   "cell_type": "code",
   "execution_count": 11,
   "metadata": {
    "collapsed": false
   },
   "outputs": [
    {
     "name": "stdout",
     "output_type": "stream",
     "text": [
      "(-142.01, 125.67999999999999)\n"
     ]
    }
   ],
   "source": [
    "print(min(final_vs_delta_rank.keys()), max(final_vs_delta_rank.keys()))"
   ]
  },
  {
   "cell_type": "code",
   "execution_count": 12,
   "metadata": {
    "collapsed": false
   },
   "outputs": [
    {
     "data": {
      "image/png": "[encoded data removed]",
      "text/plain": [
       "<matplotlib.figure.Figure at 0x120e6b250>"
      ]
     },
     "metadata": {},
     "output_type": "display_data"
    }
   ],
   "source": [
    "N = 5*2-1\n",
    "bins = 40\n",
    "width = 0.4\n",
    "ind = [(-i) for i in sorted(range(5), reverse=True)]\n",
    "ind.extend([i for i in range(5) if i > 0])\n",
    "ind = np.array(ind)\n",
    "\n",
    "i = 0\n",
    "similar_to_final = np.zeros(N); not_similar_to_final = np.zeros(N)\n",
    "for delta_rank in sorted(final_vs_delta_rank.keys()):\n",
    "    if delta_rank >= bins*((i-4) + 1):\n",
    "        i += 1\n",
    "    #print(delta_rank, bins*((i-4) + 1), final_vs_delta_rank[delta_rank])\n",
    "    for x in final_vs_delta_rank[delta_rank]:\n",
    "        if x:\n",
    "            similar_to_final[i] += 1\n",
    "        else:\n",
    "            not_similar_to_final[i] += 1\n",
    "    #print(similar_to_final)\n",
    "\n",
    "fig, ax = plt.subplots(1, 1, figsize=SINGLE_FIG_SIZE)\n",
    "rects1 = ax.bar(ind[:(len(ind)-1)], similar_to_final[:(len(ind)-1)], width, color=LIGHT_COLOR_V)\n",
    "rects2 = ax.bar(ind[:(len(ind)-1)] + width, not_similar_to_final[:(len(ind)-1)], width, color=DARK_COLOR_V)\n",
    "ax.legend((rects1[0], rects2[0]), ('Similar to Final', 'Not Similar \\nto Final'), fontsize=LABEL_SIZE-2)\n",
    "ax.set_xticks(ind[:(len(ind)-1)] + width)\n",
    "#ax.set_xticklabels(('-160', '-120', '-80', '-40', '0', '40', '80', '120', '160'))\n",
    "ax.set_xticklabels(('< -120', '< -80', '< -40', '< 0', '< 40', '< 80', '< 120', '< 160'), fontsize=LABEL_SIZE)\n",
    "ax.set_yticklabels(('0', '2', '4', '6', '8', '10', '12', '14'), fontsize=LABEL_SIZE)\n",
    "ax.set_ylim(0, 12)\n",
    "ax.set_ylabel(\"Counts\", fontsize=LABEL_SIZE)\n",
    "ax.set_xlabel(\"Rank change\", fontsize=LABEL_SIZE)\n",
    "plt.show()"
   ]
  },
  {
   "cell_type": "code",
   "execution_count": 13,
   "metadata": {
    "collapsed": false
   },
   "outputs": [
    {
     "data": {
      "image/png": "[encoded data removed]",
      "text/plain": [
       "<matplotlib.figure.Figure at 0x12107ae50>"
      ]
     },
     "metadata": {},
     "output_type": "display_data"
    }
   ],
   "source": [
    "N = 8\n",
    "bins = 20\n",
    "width = 0.4\n",
    "ind = np.array(range(N))\n",
    "i = 0\n",
    "\n",
    "abs_ranks = sorted(np.unique([abs(key) for key in final_vs_delta_rank.keys()]))\n",
    "similar_to_final = np.zeros(N); not_similar_to_final = np.zeros(N)\n",
    "for delta_rank in abs_ranks:\n",
    "    if delta_rank >= bins*(i + 1):\n",
    "        i += 1\n",
    "    \n",
    "    for x in final_vs_delta_rank[delta_rank]:\n",
    "        if x:\n",
    "            similar_to_final[i] += 1\n",
    "        else:\n",
    "            not_similar_to_final[i] += 1\n",
    "    for x in final_vs_delta_rank[-(delta_rank)]:\n",
    "        if x:\n",
    "            similar_to_final[i] += 1\n",
    "        else:\n",
    "            not_similar_to_final[i] += 1\n",
    "    \n",
    "fig, ax = plt.subplots(1, 1, figsize=SINGLE_FIG_SIZE)\n",
    "rects1 = ax.bar(ind, similar_to_final, width, color=LIGHT_COLOR_V)\n",
    "rects2 = ax.bar(ind + width, not_similar_to_final, width, color=DARK_COLOR_V)\n",
    "ax.legend((rects1[0], rects2[0]), ('Similar to Final', 'Not Similar \\nto Final'), fontsize=LABEL_SIZE-2)\n",
    "ax.set_xticks(ind + width)\n",
    "ax.set_xticklabels(('< 20', '< 40', '< 60', '< 80', '< 100', '< 120', '< 140', '< 160'), fontsize=LABEL_SIZE)\n",
    "ax.set_yticklabels(('0', '2', '4', '6', '8', '10', '12', '14', '16'), fontsize=LABEL_SIZE)\n",
    "ax.set_ylabel(\"Counts\", fontsize=LABEL_SIZE)\n",
    "ax.set_xlabel(\"Absolute rank change\", fontsize=LABEL_SIZE)\n",
    "plt.show()"
   ]
  },
  {
   "cell_type": "code",
   "execution_count": 14,
   "metadata": {
    "collapsed": false
   },
   "outputs": [
    {
     "data": {
      "text/plain": [
       "'How many people moved up? 29 How many moved down? 49'"
      ]
     },
     "execution_count": 14,
     "metadata": {},
     "output_type": "execute_result"
    }
   ],
   "source": [
    "\"How many people moved up? {0} How many moved down? {1}\".format(num_people_moved_up, num_people_moved_down)"
   ]
  },
  {
   "cell_type": "code",
   "execution_count": 15,
   "metadata": {
    "collapsed": false
   },
   "outputs": [
    {
     "data": {
      "text/plain": [
       "(0.4482758620689655, 0.5918367346938775)"
      ]
     },
     "execution_count": 15,
     "metadata": {},
     "output_type": "execute_result"
    }
   ],
   "source": [
    "(final_moved_up/num_people_moved_up, final_moved_down/num_people_moved_down)"
   ]
  },
  {
   "cell_type": "code",
   "execution_count": 16,
   "metadata": {
    "collapsed": false
   },
   "outputs": [],
   "source": [
    "#fig, ax = plt.subplots(1,1, figsize=SINGLE_FIG_SIZE)\n",
    "#plt.hist(diffs_mu)\n",
    "#plt.show()"
   ]
  },
  {
   "cell_type": "code",
   "execution_count": 17,
   "metadata": {
    "collapsed": false
   },
   "outputs": [],
   "source": [
    "#fig, ax = plt.subplots(1,1, figsize=SINGLE_FIG_SIZE)\n",
    "#plt.hist(diffs_sigma, bins=100)\n",
    "#plt.show()"
   ]
  },
  {
   "cell_type": "code",
   "execution_count": 18,
   "metadata": {
    "collapsed": false
   },
   "outputs": [
    {
     "data": {
      "text/plain": [
       "[1.6396625330885706,\n",
       " 1.2892091802387979,\n",
       " 2.2211947714767684,\n",
       " 0.42522482990773169,\n",
       " 1.0874206336753007,\n",
       " 1.3845323385632315,\n",
       " 1.225719410598187,\n",
       " -inf,\n",
       " 0.96682308876222189,\n",
       " 1.3637843789846686,\n",
       " 1.3637843789846686,\n",
       " 1.7946945025396219,\n",
       " 1.3197014314959026,\n",
       " 1.3580292122873749,\n",
       " 1.3751104169211692,\n",
       " 1.317880237164986,\n",
       " -1.3396947845222007,\n",
       " -1.4885957076313856,\n",
       " -0.13934598244340995,\n",
       " 1.3092010409400381,\n",
       " 1.600634136900188,\n",
       " 1.0761023065328879,\n",
       " 0.9753794302272647,\n",
       " 1.7934555258575611,\n",
       " 1.7786903001665217,\n",
       " 1.2399622316458048,\n",
       " -inf,\n",
       " 1.5786688593958711,\n",
       " 1.4719365828956037,\n",
       " 0.37369580968843669,\n",
       " 0.68977743891217058,\n",
       " 0.36337718196622171,\n",
       " 1.7019232714279426,\n",
       " 0.34671036530397531,\n",
       " -inf,\n",
       " 1.6714501924797234,\n",
       " 1.7362749961134778,\n",
       " 1.7255166486288578,\n",
       " 1.3751682490776604,\n",
       " 1.9032331384584558,\n",
       " 1.5016011642411866,\n",
       " 1.769249487092833,\n",
       " 0.051944533179139614,\n",
       " 0.79777456758982823,\n",
       " 1.5035512834017366,\n",
       " -inf,\n",
       " 0.30500287714362628,\n",
       " 1.3140163840259236,\n",
       " 1.0874206336753007,\n",
       " 0.4911756350127412,\n",
       " 0.56014398445486124,\n",
       " 1.1952387743826662,\n",
       " 1.1105049904880064,\n",
       " 0.51568034510636562,\n",
       " 1.9895794065884298,\n",
       " 1.8436997541043401,\n",
       " 2.0569315595446138,\n",
       " 1.7843123001726828,\n",
       " 0.96989974404990398,\n",
       " 1.9234001669200913,\n",
       " 1.5869279302988786,\n",
       " 1.8454347299015805,\n",
       " -inf,\n",
       " 1.5937342874563436,\n",
       " 1.3538208369340461,\n",
       " 0.27884600820867522,\n",
       " 1.1882298632464461,\n",
       " 1.3479770150780004,\n",
       " 1.2399622316458048,\n",
       " -0.022509982135221873,\n",
       " -inf,\n",
       " 1.6991650941647003,\n",
       " 2.1537142750549285,\n",
       " 1.609568719739225,\n",
       " 1.6884276182873863,\n",
       " -0.0074471690553720759,\n",
       " 1.0836620738469354,\n",
       " -0.022509982135221873]"
      ]
     },
     "execution_count": 18,
     "metadata": {},
     "output_type": "execute_result"
    }
   ],
   "source": [
    "#fig, ax = plt.subplots(1,1, figsize=SINGLE_FIG_SIZE)\n",
    "#plt.hist(personal_pub_rates, bins=100)\n",
    "#plt.show()\n",
    "personal_pub_rates"
   ]
  },
  {
   "cell_type": "code",
   "execution_count": null,
   "metadata": {
    "collapsed": true
   },
   "outputs": [],
   "source": []
  },
  {
   "cell_type": "code",
   "execution_count": null,
   "metadata": {
    "collapsed": true
   },
   "outputs": [],
   "source": []
  }
 ],
 "metadata": {
  "kernelspec": {
   "display_name": "Python 2",
   "language": "python",
   "name": "python2"
  },
  "language_info": {
   "codemirror_mode": {
    "name": "ipython",
    "version": 2
   },
   "file_extension": ".py",
   "mimetype": "text/x-python",
   "name": "python",
   "nbconvert_exporter": "python",
   "pygments_lexer": "ipython2",
   "version": "2.7.12"
  }
 },
 "nbformat": 4,
 "nbformat_minor": 0
}
