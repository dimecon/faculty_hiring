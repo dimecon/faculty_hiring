{
 "cells": [
  {
   "cell_type": "code",
   "execution_count": 1,
   "metadata": {
    "collapsed": false
   },
   "outputs": [
    {
     "name": "stderr",
     "output_type": "stream",
     "text": [
      "/usr/local/lib/python2.7/site-packages/sklearn/cross_validation.py:44: DeprecationWarning: This module was deprecated in version 0.18 in favor of the model_selection module into which all the refactored classes and functions are moved. Also note that the interface of the new CV iterators are different from that of this module. This module will be removed in 0.20.\n",
      "  \"This module will be removed in 0.20.\", DeprecationWarning)\n"
     ]
    }
   ],
   "source": [
    "from __future__ import division\n",
    "\n",
    "from faculty_hiring.misc.util import *\n",
    "from faculty_hiring.misc.plotting import *  # Definitions for LABEL_SIZE and such\n",
    "from faculty_hiring.misc.gaussian_kde import gaussian_kde\n",
    "from faculty_hiring.parse import faculty_parser, institution_parser\n",
    "from faculty_hiring.misc.productivity import faculty_at_institution\n",
    "from faculty_hiring.parse import load\n",
    "from faculty_hiring.parse.nces import parse_phds_awarded\n",
    "from faculty_hiring.misc.subfield import topic_descriptions, longer_topic_descriptions, num_topics \n",
    "\n",
    "from mpl_toolkits.axes_grid1 import make_axes_locatable\n",
    "from scipy.stats.stats import pearsonr, mannwhitneyu, ttest_ind\n",
    "from scipy.stats import ttest_ind, ks_2samp, chi2_contingency, mannwhitneyu\n",
    "from scipy.special import gamma as gammaf\n",
    "from sklearn.decomposition import PCA\n",
    "from sklearn import linear_model\n",
    "from sklearn.cross_validation import StratifiedKFold, LeaveOneOut\n",
    "from sklearn.ensemble import RandomForestClassifier, ExtraTreesClassifier\n",
    "from sklearn.metrics import roc_curve, auc\n",
    "from collections import Counter\n",
    "from scipy import interp\n",
    "import statsmodels.api as sm\n",
    "import numpy as np\n",
    "import math\n",
    "import scipy as sp\n",
    "import pandas as pd\n",
    "import os\n",
    "import mpld3\n",
    "import palettable\n",
    "\n",
    "sig_level = 0.05\n",
    "\n",
    "# File locations\n",
    "faculty_file = '/Users/allisonmorgan/Documents/faculty_hiring/publication_data/current_data/faculty_cs_CURRENT.txt'\n",
    "inst_file = '/Users/allisonmorgan/Documents/faculty_hiring/publication_data/current_data/inst_cs_CURRENT.txt'\n",
    "figures_dir = '/Users/allisonmorgan/Code/src/github.com/allisonmorgan/faculty_hiring/notebooks-productivity/figures/'\n",
    "#nces_table = '/Users/samway/Documents/Work/ClausetLab/projects/faculty_hiring/data/nces_table.txt'\n",
    "\n",
    "# (Optional, these are for loading publication profiles)\n",
    "dblp_dir = '/Users/allisonmorgan/Documents/faculty_hiring/publication_data/profiles_DBLP_Nov16/'"
   ]
  },
  {
   "cell_type": "code",
   "execution_count": 2,
   "metadata": {
    "collapsed": false
   },
   "outputs": [],
   "source": [
    "inst = institution_parser.parse_institution_records(open(inst_file))\n",
    "asst_faculty = load.load_assistant_profs(open(faculty_file), inst)\n",
    "ignore = ['All others', 'UNKNOWN', 'CUNY Graduate Center']\n",
    "\n",
    "load.load_all_publications(asst_faculty, dblp_dir)"
   ]
  },
  {
   "cell_type": "code",
   "execution_count": 3,
   "metadata": {
    "collapsed": true
   },
   "outputs": [],
   "source": [
    "valid_titles = ['Assistant Professor', 'Associate Professor', 'Full Professor']"
   ]
  },
  {
   "cell_type": "code",
   "execution_count": 4,
   "metadata": {
    "collapsed": false
   },
   "outputs": [
    {
     "name": "stdout",
     "output_type": "stream",
     "text": [
      "Updated 555 profiles!\n"
     ]
    }
   ],
   "source": [
    "followup_data = '/Users/allisonmorgan/Code/src/github.com/allisonmorgan/faculty_hiring/notebooks-productivity/Finalized_Spreadsheet_Nov21.tsv'\n",
    "\n",
    "def load_followup_data(faculty, followup_file):\n",
    "    \"\"\" Loads the follow-up spreadsheet data collected by BuffTurkers in Nov2016 \"\"\"\n",
    "    df = pd.read_csv(followup_file, sep='\\t')\n",
    "    profiles_updated = 0\n",
    "    \n",
    "    for person in faculty:\n",
    "        # When collection assignements are created, these fields are written out:\n",
    "        # person.facultyName, person.place, person.current\n",
    "        num_records = len(df[df['Faculty name'] == person.facultyName])\n",
    "        if num_records == 0: # No matches, this is fine\n",
    "            continue  \n",
    "        elif num_records == 1: # One match, this is great\n",
    "            row = df[df['Faculty name'] == person.facultyName]\n",
    "            if row['Institution (2011)'].iloc[0] != person.place:\n",
    "                continue\n",
    "            person['followup_title'] = row['Job Title (2016)'].iloc[0]\n",
    "            person['followup_location'] = row['Institution (2016)'].iloc[0]\n",
    "            person['followup_department'] = row['Department (2016)'].iloc[0]\n",
    "            profiles_updated += 1\n",
    "        else: # Multiple matches, this... is bad. Blow up.\n",
    "            raise ValueError('Multiple records detected!')\n",
    "            \n",
    "    assert (profiles_updated <= len(df))\n",
    "    print 'Updated %d profiles!' % (profiles_updated)\n",
    "\n",
    "load_followup_data(asst_faculty, followup_data)"
   ]
  },
  {
   "cell_type": "markdown",
   "metadata": {},
   "source": [
    "## Compare with Publications"
   ]
  },
  {
   "cell_type": "code",
   "execution_count": 70,
   "metadata": {
    "collapsed": false
   },
   "outputs": [
    {
     "name": "stdout",
     "output_type": "stream",
     "text": [
      "Counter({'Assistant Professor -> Associate Professor': 366, 'Assistant Professor -> Assistant Professor': 104, 'Assistant Professor -> NOT TT': 68, 'Assistant Professor -> Full Professor': 17})\n",
      "Counter({'STAYED': 404, 'MOVED': 151})\n",
      "Counter({'STAYED IN ACADEMIA': 78, 'LEFT ACADEMIA': 73})\n"
     ]
    }
   ],
   "source": [
    "trajectories_position = Counter()\n",
    "trajectories_location = Counter()\n",
    "trajectories_moved_and_left = Counter()\n",
    "for person in asst_faculty:\n",
    "    if 'followup_title' in person and 'current' in person:\n",
    "        key = \"%s -> %s\" % (person['current'], person['followup_title'])\n",
    "        trajectories_position[key] += 1\n",
    "        \n",
    "        key = \"%s\" % (\"STAYED\" if person['followup_location'] == person['place'] else \"MOVED\")\n",
    "        trajectories_location[key] += 1\n",
    "        \n",
    "        if person['followup_location'] != person['place']:\n",
    "            key = \"%s\" % (\"LEFT ACADEMIA\" if person['followup_location'] == \"NOT IN ACADEMIA\" else \"STAYED IN ACADEMIA\")\n",
    "            trajectories_moved_and_left[key] += 1\n",
    "        \n",
    "print trajectories_position\n",
    "print trajectories_location\n",
    "print trajectories_moved_and_left"
   ]
  },
  {
   "cell_type": "code",
   "execution_count": 71,
   "metadata": {
    "collapsed": false
   },
   "outputs": [],
   "source": [
    "# Number of publications for all current assistant faculty of a university. Adjusted for inflation\n",
    "# Set limit_by_years_post_hire flag to True to consider only the contributions within the first 5 \n",
    "# years of a researcher's career.\n",
    "limit_by_years_post_hire = True\n",
    "ignore = ['All others', 'UNKNOWN', 'CUNY Graduate Center']\n",
    "pubs_by_inst = {}\n",
    "pubs_by_year_by_inst = {}\n",
    "for (name, inst_data) in inst.items():\n",
    "    if name in ignore:\n",
    "        continue\n",
    "    current_faculty = faculty_at_institution(name, asst_faculty)\n",
    "    n_pubs = []; n_pubs_by_year = [];\n",
    "    for person in current_faculty:\n",
    "        start = person.first_asst_job_year\n",
    "        if limit_by_years_post_hire:\n",
    "            end = np.min([2012, person.first_asst_job_year + 5])\n",
    "        else:\n",
    "            end = 2012\n",
    "        career_length = end - start\n",
    "        \n",
    "        if person.__contains__('dblp_pubs'):\n",
    "            contribution = 0\n",
    "            for pub in person.dblp_pubs:\n",
    "                if 'year' in pub \\\n",
    "                      and pub['year'] >= start \\\n",
    "                      and pub['year'] < end \\\n",
    "                      and pub['pub_type'] in ['inproceedings', 'article']:\n",
    "                    contribution += inflation_adjust(pub['year'])\n",
    "            \n",
    "            n_pubs.append((person.facultyName, contribution))\n",
    "            n_pubs_by_year.append((person.facultyName, contribution/float(career_length)))\n",
    "    if len(n_pubs) > 0:\n",
    "        pubs_by_inst[name] = n_pubs\n",
    "        pubs_by_year_by_inst[name] = n_pubs_by_year"
   ]
  },
  {
   "cell_type": "code",
   "execution_count": 72,
   "metadata": {
    "collapsed": false
   },
   "outputs": [],
   "source": [
    "# Compare the average publication rate of a person in their first five years, \n",
    "# to the average publication rate of faculty within their first five years at\n",
    "# both the institution they came from and went to\n",
    "publication_trajectories = []\n",
    "for person in asst_faculty:\n",
    "    if 'followup_title' in person and person.__contains__('dblp_pubs'):\n",
    "        initial_institution = person.current_job()[0]\n",
    "        final_institution = person['followup_location']\n",
    "        \n",
    "        # Get average publication rate of the young faculty at either institution\n",
    "        if initial_institution == final_institution:\n",
    "            # Don't consider those people who took promotions at the same institution.\n",
    "            continue\n",
    "        # This will skip anyone who left academia (i.e. their final_institution == \"NOT TT\")\n",
    "        if pubs_by_year_by_inst.has_key(initial_institution) and pubs_by_year_by_inst.has_key(final_institution):\n",
    "            # TODO: remove people with count == 0. Those people have zero pubs to their name. This shouldn't happen right?\n",
    "            initial_counts = [count for (_, count) in pubs_by_year_by_inst[initial_institution] if count > 0]\n",
    "            initial_pub_rate = np.mean([np.log(count) for count in initial_counts])\n",
    "            initial_pub_std = np.std([np.log(count) for count in initial_counts])\n",
    "            \n",
    "            final_counts = [count for (_, count) in pubs_by_year_by_inst[final_institution] if count > 0]\n",
    "            final_pub_rate = np.mean([np.log(count) for count in final_counts])\n",
    "            final_pub_std = np.std([np.log(count) for count in final_counts])\n",
    "            \n",
    "            # Get this person's publication rate\n",
    "            start = person.current_job()[1]\n",
    "            end = np.min([2012, start + 5])\n",
    "            career_length = end - start\n",
    "        \n",
    "            contribution = 0\n",
    "            for pub in person.dblp_pubs:\n",
    "                if 'year' in pub \\\n",
    "                      and pub['year'] >= start \\\n",
    "                      and pub['year'] < end \\\n",
    "                      and pub['pub_type'] in ['inproceedings', 'article']:\n",
    "                    contribution += inflation_adjust(pub['year'])\n",
    "            personal_pub_rate = (contribution/float(career_length))\n",
    "            \n",
    "            publication_trajectories.append((\n",
    "                    (np.log(personal_pub_rate), inst[initial_institution]['pi'], inst[final_institution]['pi']), \n",
    "                    (initial_pub_rate, initial_pub_std), \n",
    "                    (final_pub_rate, final_pub_std)\n",
    "                ))"
   ]
  },
  {
   "cell_type": "code",
   "execution_count": 75,
   "metadata": {
    "collapsed": false
   },
   "outputs": [
    {
     "name": "stdout",
     "output_type": "stream",
     "text": [
      "('Number of faculty who changed universities (but stayed in academia)', 78)\n",
      "('Median personal publicatin rate', 277130757.08205402)\n"
     ]
    }
   ],
   "source": [
    "print(\"Number of faculty who changed universities (but stayed in academia)\", len(publication_trajectories))\n",
    "personal_pub_rates = [r for (r, _, _ ) in publication_trajectories]\n",
    "print(\"Median personal publicatin rate\", np.median(np.exp(r)))"
   ]
  },
  {
   "cell_type": "code",
   "execution_count": 76,
   "metadata": {
    "collapsed": false
   },
   "outputs": [],
   "source": [
    "# How many times was the final institution a better fit?\n",
    "final_raw = 0; num_people_raw = 0; \n",
    "final_moved_up = 0; num_people_moved_up = 0;\n",
    "final_moved_down = 0; num_people_moved_down = 0;\n",
    "#diffs_mu = []; diffs_sigma = [];\n",
    "# Everything has alreday been log-ed above ^\n",
    "for ((personal, initial_rank, final_rank), (initial_mu, initial_sigma), (final_mu, final_sigma)) in publication_trajectories:\n",
    "    likelihood_of_final = sp.stats.norm.pdf(personal, final_mu, final_sigma)\n",
    "    likelihood_of_initial = sp.stats.norm.pdf(personal, initial_mu, initial_sigma)\n",
    "    \n",
    "    #diffs_mu.append(initial_mu - final_mu)\n",
    "    #diffs_sigma.append(initial_sigma - final_sigma)\n",
    "    \n",
    "    # Did the person make a decrease in rank? Or did they move up?\n",
    "    if (final_rank - initial_rank) > 0:\n",
    "        if likelihood_of_final > likelihood_of_initial:\n",
    "            final_moved_up += 1\n",
    "        num_people_moved_up += 1\n",
    "    else: \n",
    "        if likelihood_of_final > likelihood_of_initial:\n",
    "            final_moved_down += 1\n",
    "        num_people_moved_down += 1"
   ]
  },
  {
   "cell_type": "code",
   "execution_count": 77,
   "metadata": {
    "collapsed": false
   },
   "outputs": [
    {
     "data": {
      "text/plain": [
       "'How many people moved up? 29 How many moved down? 49'"
      ]
     },
     "execution_count": 77,
     "metadata": {},
     "output_type": "execute_result"
    }
   ],
   "source": [
    "\"How many people moved up? {0} How many moved down? {1}\".format(num_people_moved_up, num_people_moved_down)"
   ]
  },
  {
   "cell_type": "code",
   "execution_count": 78,
   "metadata": {
    "collapsed": false
   },
   "outputs": [
    {
     "data": {
      "text/plain": [
       "(0.4482758620689655, 0.5918367346938775)"
      ]
     },
     "execution_count": 78,
     "metadata": {},
     "output_type": "execute_result"
    }
   ],
   "source": [
    "(final_moved_up/num_people_moved_up, final_moved_down/num_people_moved_down)"
   ]
  },
  {
   "cell_type": "code",
   "execution_count": 79,
   "metadata": {
    "collapsed": false
   },
   "outputs": [],
   "source": [
    "#fig, ax = plt.subplots(1,1, figsize=SINGLE_FIG_SIZE)\n",
    "#plt.hist(diffs_mu)\n",
    "#plt.show()"
   ]
  },
  {
   "cell_type": "code",
   "execution_count": 80,
   "metadata": {
    "collapsed": false
   },
   "outputs": [],
   "source": [
    "#fig, ax = plt.subplots(1,1, figsize=SINGLE_FIG_SIZE)\n",
    "#plt.hist(diffs_sigma, bins=100)\n",
    "#plt.show()"
   ]
  },
  {
   "cell_type": "code",
   "execution_count": null,
   "metadata": {
    "collapsed": true
   },
   "outputs": [],
   "source": []
  }
 ],
 "metadata": {
  "kernelspec": {
   "display_name": "Python 2",
   "language": "python",
   "name": "python2"
  },
  "language_info": {
   "codemirror_mode": {
    "name": "ipython",
    "version": 2
   },
   "file_extension": ".py",
   "mimetype": "text/x-python",
   "name": "python",
   "nbconvert_exporter": "python",
   "pygments_lexer": "ipython2",
   "version": "2.7.12"
  }
 },
 "nbformat": 4,
 "nbformat_minor": 0
}
