{
 "cells": [
  {
   "cell_type": "code",
   "execution_count": 132,
   "metadata": {
    "collapsed": false
   },
   "outputs": [],
   "source": [
    "from __future__ import division\n",
    "\n",
    "from faculty_hiring.misc.util import *\n",
    "from faculty_hiring.misc.plotting import *  # Definitions for LABEL_SIZE and such\n",
    "from faculty_hiring.misc.gaussian_kde import gaussian_kde\n",
    "from faculty_hiring.parse import faculty_parser, institution_parser\n",
    "from faculty_hiring.misc.productivity import faculty_at_institution\n",
    "from faculty_hiring.parse import load\n",
    "from faculty_hiring.parse.nces import parse_phds_awarded\n",
    "from faculty_hiring.misc.subfield import topic_descriptions, longer_topic_descriptions, num_topics \n",
    "\n",
    "from mpl_toolkits.axes_grid1 import make_axes_locatable\n",
    "from scipy.stats.stats import pearsonr, mannwhitneyu, ttest_ind\n",
    "from scipy.stats import ttest_ind, ks_2samp, chi2_contingency, mannwhitneyu\n",
    "from scipy.special import gamma as gammaf\n",
    "from sklearn.decomposition import PCA\n",
    "from sklearn import linear_model\n",
    "from sklearn.cross_validation import StratifiedKFold, LeaveOneOut\n",
    "from sklearn.ensemble import RandomForestClassifier, ExtraTreesClassifier\n",
    "from sklearn.metrics import roc_curve, auc\n",
    "from collections import Counter\n",
    "from scipy import interp\n",
    "import statsmodels.api as sm\n",
    "import numpy as np\n",
    "import math\n",
    "import scipy as sp\n",
    "import pandas as pd\n",
    "import os\n",
    "import mpld3\n",
    "import palettable\n",
    "\n",
    "sig_level = 0.05\n",
    "\n",
    "# File locations\n",
    "faculty_file = '/Users/allisonmorgan/Documents/faculty_hiring/publication_data/current_data/faculty_cs_CURRENT.txt'\n",
    "inst_file = '/Users/allisonmorgan/Documents/faculty_hiring/publication_data/current_data/inst_cs_CURRENT.txt'\n",
    "figures_dir = '/Users/allisonmorgan/Code/src/github.com/allisonmorgan/faculty_hiring/notebooks-productivity/figures/'\n",
    "#nces_table = '/Users/samway/Documents/Work/ClausetLab/projects/faculty_hiring/data/nces_table.txt'\n",
    "\n",
    "# (Optional, these are for loading publication profiles)\n",
    "dblp_dir = '/Users/allisonmorgan/Documents/faculty_hiring/publication_data/profiles_DBLP_Nov16/'"
   ]
  },
  {
   "cell_type": "code",
   "execution_count": 48,
   "metadata": {
    "collapsed": false
   },
   "outputs": [],
   "source": [
    "inst = institution_parser.parse_institution_records(open(inst_file))\n",
    "asst_faculty = load.load_assistant_profs(open(faculty_file), inst)\n",
    "ignore = ['All others', 'UNKNOWN', 'CUNY Graduate Center']\n",
    "\n",
    "load.load_all_publications(asst_faculty, dblp_dir)"
   ]
  },
  {
   "cell_type": "code",
   "execution_count": 49,
   "metadata": {
    "collapsed": true
   },
   "outputs": [],
   "source": [
    "valid_titles = ['Assistant Professor', 'Associate Professor', 'Full Professor']"
   ]
  },
  {
   "cell_type": "code",
   "execution_count": 50,
   "metadata": {
    "collapsed": false
   },
   "outputs": [
    {
     "name": "stdout",
     "output_type": "stream",
     "text": [
      "Updated 555 profiles!\n"
     ]
    }
   ],
   "source": [
    "followup_data = '/Users/allisonmorgan/Code/src/github.com/allisonmorgan/faculty_hiring/notebooks-productivity/Finalized_Spreadsheet_Nov21.tsv'\n",
    "\n",
    "def load_followup_data(faculty, followup_file):\n",
    "    \"\"\" Loads the follow-up spreadsheet data collected by BuffTurkers in Nov2016 \"\"\"\n",
    "    df = pd.read_csv(followup_file, sep='\\t')\n",
    "    profiles_updated = 0\n",
    "    \n",
    "    for person in faculty:\n",
    "        # When collection assignements are created, these fields are written out:\n",
    "        # person.facultyName, person.place, person.current\n",
    "        num_records = len(df[df['Faculty name'] == person.facultyName])\n",
    "        if num_records == 0: # No matches, this is fine\n",
    "            continue  \n",
    "        elif num_records == 1: # One match, this is great\n",
    "            row = df[df['Faculty name'] == person.facultyName]\n",
    "            if row['Institution (2011)'].iloc[0] != person.place:\n",
    "                continue\n",
    "            person['followup_title'] = row['Job Title (2016)'].iloc[0]\n",
    "            person['followup_location'] = row['Institution (2016)'].iloc[0]\n",
    "            person['followup_department'] = row['Department (2016)'].iloc[0]\n",
    "            profiles_updated += 1\n",
    "        else: # Multiple matches, this... is bad. Blow up.\n",
    "            raise ValueError('Multiple records detected!')\n",
    "            \n",
    "    assert (profiles_updated <= len(df))\n",
    "    print 'Updated %d profiles!' % (profiles_updated)\n",
    "\n",
    "load_followup_data(asst_faculty, followup_data)"
   ]
  },
  {
   "cell_type": "markdown",
   "metadata": {},
   "source": [
    "## Compare with Publications"
   ]
  },
  {
   "cell_type": "code",
   "execution_count": 51,
   "metadata": {
    "collapsed": false
   },
   "outputs": [
    {
     "data": {
      "text/plain": [
       "Counter({'Assistant Professor -> Assistant Professor': 104,\n",
       "         'Assistant Professor -> Associate Professor': 366,\n",
       "         'Assistant Professor -> Full Professor': 17,\n",
       "         'Assistant Professor -> NOT TT': 68})"
      ]
     },
     "execution_count": 51,
     "metadata": {},
     "output_type": "execute_result"
    }
   ],
   "source": [
    "trajectories = Counter()\n",
    "for person in asst_faculty:\n",
    "    if 'followup_title' in person and 'current' in person:\n",
    "        key = \"%s -> %s\" % (person['current'], person['followup_title'])\n",
    "        trajectories[key] += 1\n",
    "trajectories"
   ]
  },
  {
   "cell_type": "code",
   "execution_count": 52,
   "metadata": {
    "collapsed": false
   },
   "outputs": [],
   "source": [
    "# Number of publications for all current assistant faculty of a university. Adjusted for inflation\n",
    "# Set limit_by_years_post_hire flag to True to consider only the contributions within the first 5 \n",
    "# years of a researcher's career.\n",
    "limit_by_years_post_hire = True\n",
    "ignore = ['All others', 'UNKNOWN', 'CUNY Graduate Center']\n",
    "pubs_by_inst = {}\n",
    "pubs_by_year_by_inst = {}\n",
    "for (name, inst_data) in inst.items():\n",
    "    if name in ignore:\n",
    "        continue\n",
    "    current_faculty = faculty_at_institution(name, asst_faculty)\n",
    "    n_pubs = []; n_pubs_by_year = [];\n",
    "    for person in current_faculty:\n",
    "        start = person.first_asst_job_year\n",
    "        if limit_by_years_post_hire:\n",
    "            end = np.min([2012, person.first_asst_job_year + 5])\n",
    "        else:\n",
    "            end = 2012\n",
    "        career_length = end - start\n",
    "        \n",
    "        if person.__contains__('dblp_pubs'):\n",
    "            contribution = 0\n",
    "            for pub in person.dblp_pubs:\n",
    "                if 'year' in pub \\\n",
    "                      and pub['year'] >= start \\\n",
    "                      and pub['year'] < end \\\n",
    "                      and pub['pub_type'] in ['inproceedings', 'article']:\n",
    "                    contribution += inflation_adjust(pub['year'])\n",
    "            \n",
    "            n_pubs.append((person.facultyName, contribution))\n",
    "            n_pubs_by_year.append((person.facultyName, contribution/float(career_length)))\n",
    "    if len(n_pubs) > 0:\n",
    "        pubs_by_inst[name] = n_pubs\n",
    "        pubs_by_year_by_inst[name] = n_pubs_by_year"
   ]
  },
  {
   "cell_type": "code",
   "execution_count": 113,
   "metadata": {
    "collapsed": false
   },
   "outputs": [],
   "source": [
    "# Compare the average publication rate of a person in their first five years, \n",
    "# to the average publication rate of faculty within their first five years at\n",
    "# both the institution they came from and went to\n",
    "publication_trajectories = []\n",
    "for person in asst_faculty:\n",
    "    if 'followup_title' in person and person.__contains__('dblp_pubs'):\n",
    "        initial_institution = person.current_job()[0]\n",
    "        final_institution = person['followup_location']\n",
    "        \n",
    "        # Get average publication rate of the young faculty at either institution\n",
    "        # This will skip anyone who left academia\n",
    "        if pubs_by_year_by_inst.has_key(initial_institution) and pubs_by_year_by_inst.has_key(final_institution):\n",
    "            initial_counts = [count for (_, count) in pubs_by_year_by_inst[initial_institution]]\n",
    "            initial_scatter, initial_pub_rate, initial_pub_std = sp.stats.lognorm.fit(initial_counts)\n",
    "            \n",
    "            final_counts = [count for (_, count) in pubs_by_year_by_inst[final_institution]]\n",
    "            final_scatter, final_pub_rate, final_pub_std = sp.stats.lognorm.fit(final_counts)\n",
    "            \n",
    "            # Get this faculty member's publication rate\n",
    "            start = person.current_job()[1]\n",
    "            end = np.min([2012, start + 5])\n",
    "            career_length = end - start\n",
    "        \n",
    "            contribution = 0\n",
    "            for pub in person.dblp_pubs:\n",
    "                if 'year' in pub \\\n",
    "                      and pub['year'] >= start \\\n",
    "                      and pub['year'] < end \\\n",
    "                      and pub['pub_type'] in ['inproceedings', 'article']:\n",
    "                    contribution += inflation_adjust(pub['year'])\n",
    "            personal_pub_rate = (contribution/float(career_length))\n",
    "            \n",
    "            publication_trajectories.append((personal_pub_rate, (initial_scatter, initial_pub_rate, initial_pub_std), (final_scatter, final_pub_rate, final_pub_std)))"
   ]
  },
  {
   "cell_type": "code",
   "execution_count": 139,
   "metadata": {
    "collapsed": false
   },
   "outputs": [],
   "source": [
    "# How many times was the final institution a better fit?\n",
    "final = 0; num_people = 0; \n",
    "for (personal, (initial_scatter, initial_mu, initial_sigma), (final_scatter, final_mu, final_sigma)) in publication_trajectories:\n",
    "    likelihood_of_final = sp.stats.lognorm.pdf(personal, initial_scatter, loc=initial_mu, scale=final_sigma)\n",
    "    likelihood_of_initial = sp.stats.lognorm.pdf(personal, final_scatter, loc=final_mu, scale=initial_sigma)\n",
    "    \n",
    "    #print(likelihood_of_final, likelihood_of_initial)\n",
    "    if likelihood_of_final >= likelihood_of_initial:\n",
    "        final += 1\n",
    "    num_people += 1"
   ]
  },
  {
   "cell_type": "code",
   "execution_count": 140,
   "metadata": {
    "collapsed": false
   },
   "outputs": [
    {
     "data": {
      "text/plain": [
       "0.9208333333333333"
      ]
     },
     "execution_count": 140,
     "metadata": {},
     "output_type": "execute_result"
    }
   ],
   "source": [
    "final/num_people"
   ]
  },
  {
   "cell_type": "code",
   "execution_count": null,
   "metadata": {
    "collapsed": true
   },
   "outputs": [],
   "source": []
  }
 ],
 "metadata": {
  "kernelspec": {
   "display_name": "Python 2",
   "language": "python",
   "name": "python2"
  },
  "language_info": {
   "codemirror_mode": {
    "name": "ipython",
    "version": 2
   },
   "file_extension": ".py",
   "mimetype": "text/x-python",
   "name": "python",
   "nbconvert_exporter": "python",
   "pygments_lexer": "ipython2",
   "version": "2.7.12"
  }
 },
 "nbformat": 4,
 "nbformat_minor": 0
}
