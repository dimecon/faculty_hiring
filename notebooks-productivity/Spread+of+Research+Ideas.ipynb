{
 "cells": [
  {
   "cell_type": "code",
   "execution_count": 161,
   "metadata": {
    "collapsed": true
   },
   "outputs": [],
   "source": [
    "from __future__ import division\n",
    "\n",
    "from faculty_hiring.misc.util import *\n",
    "from faculty_hiring.misc.plotting import *  # Definitions for LABEL_SIZE and such\n",
    "from faculty_hiring.misc.gaussian_kde import gaussian_kde\n",
    "from faculty_hiring.parse import faculty_parser, institution_parser\n",
    "from faculty_hiring.parse import load\n",
    "from faculty_hiring.parse.nces import parse_phds_awarded\n",
    "from faculty_hiring.misc.subfield import topic_descriptions, longer_topic_descriptions, num_topics\n",
    "from collections import Counter\n",
    "\n",
    "import numpy as np\n",
    "import scipy as sp\n",
    "import pandas as pd\n",
    "import seaborn as sns\n",
    "import os\n",
    "\n",
    "%matplotlib inline\n",
    "\n",
    "# File locations\n",
    "faculty_file = '/Users/allisonmorgan/Documents/faculty_hiring/publication_data/current_data/faculty_cs_CURRENT.txt'\n",
    "inst_file = '/Users/allisonmorgan/Documents/faculty_hiring/publication_data/current_data/inst_cs_CURRENT.txt'\n",
    "figures_dir = '/Users/allisonmorgan/Documents/faculty_hiring/figures/'\n",
    "\n",
    "# (Optional, these are for loading publication profiles)\n",
    "dblp_dir = '/Users/allisonmorgan/Documents/faculty_hiring/publication_data/profiles_DBLP_Nov16/'"
   ]
  },
  {
   "cell_type": "code",
   "execution_count": 162,
   "metadata": {
    "collapsed": true
   },
   "outputs": [],
   "source": [
    "inst = institution_parser.parse_institution_records(open(inst_file))\n",
    "asst_faculty = load.load_assistant_profs(open(faculty_file), inst, ranking='pi')\n",
    "load.load_all_publications(asst_faculty, dblp_dir)"
   ]
  },
  {
   "cell_type": "code",
   "execution_count": 163,
   "metadata": {
    "collapsed": false
   },
   "outputs": [],
   "source": [
    "deep_learning_keywords = [\"ANN\", \"convolutional\", \"CNN\", \"recurrent\", \"RNN\", \"perceptron\", \"deep learning\", \n",
    "                          \"deep-learning\", \"recursive neural net\", \"stochastic gradient descent\", \"SGD\", \"LSTM\",\n",
    "                          \"long short-term memory\", \"GAN\", \"generative adversarial network\", \"theano\", \"tensorflow\",\n",
    "                          \"siamese network\", \"alexnet\", \"neural network\", \"keras\", \"deep belief net\", \n",
    "                          \"deep reinforcement learning\", \"deep neural network\", \"DNN\", \"boltzmann machine\", \n",
    "                          \"recursive auto-encoding\", \"recursive autoencoding\", \"hidden layer\", \"convnet\", \n",
    "                          \"rectified linear unit\", \"relu\", \"pooling\", \"gated recurrent unit\", \"gru\", \n",
    "                          \"multilayer perceptron\", \"mlp\", \"autoencoder\", \"auto-encoder\", \"activation function\", \n",
    "                          \"affine layer\", \"backprop\", \"back-prop\", \"back prop\", \"bptt\", \"feedforward\", \n",
    "                          \"feed-forward\", \"actor-critic\", \"deepmind\", \"ladder network\", \"zf net\", \"dense layer\", \n",
    "                          \"adadelta\", \"adagrad\", \"average-pooling\", \"bidirectional rnn\", \"bidirectional recurrent\", \n",
    "                          \"categorical cross-entropy loss\", \"dbn\", \"deep dream\", \"googlenet\", \"highway layer\", \n",
    "                          \"imagenet\", \"ilsvrc\", \"inception module\", \"max-pooling\", \"noise-contrastive estimation\", \n",
    "                          \"noise contrastive estimation\", \"restricted boltzmann\", \"rbn\", \"recursive neural network\", \n",
    "                          \"resnet\", \"rmsprop\", \"vanishing gradient\", \"vgg\", \"convnet\"]"
   ]
  },
  {
   "cell_type": "markdown",
   "metadata": {},
   "source": [
    "**Note:** How will these results differ based on domain? Any other domains to consider?"
   ]
  },
  {
   "cell_type": "markdown",
   "metadata": {},
   "source": [
    "Need to find all faculty members who have ever worked at an institution. Returns an array of faculty."
   ]
  },
  {
   "cell_type": "code",
   "execution_count": 164,
   "metadata": {
    "collapsed": true
   },
   "outputs": [],
   "source": [
    "def faculty_at_institution(institution_name):\n",
    "    people = []\n",
    "    for f in asst_faculty:\n",
    "        for job in f.faculty:\n",
    "            if job['rank'] != \"PostDoc\" and job['place'] == institution_name:\n",
    "                people.append(f)\n",
    "                break\n",
    "                \n",
    "    return people "
   ]
  },
  {
   "cell_type": "markdown",
   "metadata": {},
   "source": [
    "## General trend in deep-learning research"
   ]
  },
  {
   "cell_type": "code",
   "execution_count": 165,
   "metadata": {
    "collapsed": false
   },
   "outputs": [],
   "source": [
    "def distribution(asst_faculty):\n",
    "    yearly_rate = Counter()\n",
    "    for f in asst_faculty:\n",
    "        if f.__contains__(\"dblp_pubs\"):\n",
    "            for pub in f.dblp_pubs:\n",
    "                if any(pub['title'].lower().count(keyword) for keyword in deep_learning_keywords):\n",
    "                    yearly_rate[pub['year']] += 1\n",
    "                \n",
    "    return yearly_rate \n",
    "\n",
    "dist = distribution(asst_faculty)"
   ]
  },
  {
   "cell_type": "code",
   "execution_count": 166,
   "metadata": {
    "collapsed": false
   },
   "outputs": [
    {
     "data": {
      "image/png": "[encoded data removed]",
      "text/plain": [
       "<matplotlib.figure.Figure at 0x11f7d0110>"
      ]
     },
     "metadata": {},
     "output_type": "display_data"
    }
   ],
   "source": [
    "x = dict(dist).keys(); y = [];\n",
    "for year, count in dict(dist).items():\n",
    "    y.append(count)\n",
    "    \n",
    "plt.plot(x, y, color = 'r')\n",
    "plt.xlim(1970, 2015)\n",
    "plt.show()"
   ]
  },
  {
   "cell_type": "markdown",
   "metadata": {},
   "source": [
    "## Walk-through an example university"
   ]
  },
  {
   "cell_type": "markdown",
   "metadata": {},
   "source": [
    "Let's try this procedure on University of Colorado, Boulder"
   ]
  },
  {
   "cell_type": "code",
   "execution_count": 167,
   "metadata": {
    "collapsed": false
   },
   "outputs": [],
   "source": [
    "place = 'University of Montreal'"
   ]
  },
  {
   "cell_type": "code",
   "execution_count": 168,
   "metadata": {
    "collapsed": false
   },
   "outputs": [],
   "source": [
    "def get_hires_and_publications(place):\n",
    "    hires_and_publications = []\n",
    "    for f in faculty_at_institution(place):\n",
    "        person = {\"facultyName\": f.facultyName}\n",
    "    \n",
    "        person[\"start\"] = 2020; person[\"end\"] = 0;\n",
    "        for job in f.faculty:\n",
    "            if job['place'] == place and not (job['start_year'] is None):\n",
    "                person[\"start\"] = min(job['start_year'], person[\"start\"])\n",
    "                person[\"end\"] = max(job['end_year'], person[\"end\"])\n",
    "    \n",
    "        if person[\"end\"] == 0:\n",
    "            person[\"end\"] = 2011\n",
    "        if person[\"start\"] == 2020:\n",
    "            continue\n",
    "    \n",
    "        relevant_pubs = []\n",
    "        if f.__contains__(\"dblp_pubs\"):\n",
    "            for pub in f.dblp_pubs:\n",
    "                relevant_venue = False\n",
    "                if pub.has_key('venue') and not (pub['venue'] is None):\n",
    "                    if any((pub['venue'].lower().count(keyword) > 0) for keyword in deep_learning_keywords):\n",
    "                        relevant_venue = True\n",
    "                \n",
    "                if any((pub['title'].lower().count(keyword) > 0) for keyword in deep_learning_keywords) or relevant_venue:\n",
    "                    relevant_pubs.append(pub['year'])\n",
    "                        \n",
    "        person[\"pubs\"] = relevant_pubs\n",
    "    \n",
    "        hires_and_publications.append(person)\n",
    "    \n",
    "    return hires_and_publications"
   ]
  },
  {
   "cell_type": "code",
   "execution_count": 155,
   "metadata": {
    "collapsed": false
   },
   "outputs": [],
   "source": [
    "#get_hires_and_publications(place)"
   ]
  },
  {
   "cell_type": "markdown",
   "metadata": {},
   "source": [
    "Let's plot the above data so we can better see when hires and publications occurred."
   ]
  },
  {
   "cell_type": "code",
   "execution_count": 169,
   "metadata": {
    "collapsed": false
   },
   "outputs": [
    {
     "name": "stdout",
     "output_type": "stream",
     "text": [
      "Gregor V. Bochmann\n",
      "Yoshua Bengio\n",
      "Gilles Brassard\n",
      "Miklos Csuros\n",
      "Bruno Dufour\n",
      "Bernard Gendron\n",
      "Francois Major\n",
      "Pierre Poulin\n",
      "Pascal Vincent\n",
      "Stanley M. Selkow\n"
     ]
    },
    {
     "data": {
      "image/png": "[encoded data removed]",
      "text/plain": [
       "<matplotlib.figure.Figure at 0x1236bd4d0>"
      ]
     },
     "metadata": {},
     "output_type": "display_data"
    }
   ],
   "source": [
    "def plot_careers(place):\n",
    "    i = 0\n",
    "    for person in get_hires_and_publications(place):\n",
    "        print person['facultyName']\n",
    "        plt.plot([person[\"start\"], person[\"end\"]], [i, i], linewidth= 4, color = 'k', alpha = .5)\n",
    "        plt.text(person[\"start\"], i, person[\"facultyName\"], fontsize=7)\n",
    "    \n",
    "        if len(person['pubs']) > 0:\n",
    "            plt.scatter(person['pubs'], [i]*len(person['pubs']), s = 20, color = 'r')\n",
    "        i += 1\n",
    "\n",
    "    plt.xlim(1960, 2020)\n",
    "    plt.show()\n",
    "\n",
    "plot_careers(place)"
   ]
  },
  {
   "cell_type": "markdown",
   "metadata": {},
   "source": [
    "Did the first deep-learning publication coincide with a faculty hiring event? Is the date of publication within two years of the author's hire? \n",
    "\n",
    "**Note:** Should we consider:\n",
    "(1) window around hire data - the person the made the first deep learning contribution\n",
    "(2) window around first relevant pub data\n",
    "\n",
    "Keep in mind: do we often see a big gap in deep learning pubs between pre- and post-hire?"
   ]
  },
  {
   "cell_type": "code",
   "execution_count": 170,
   "metadata": {
    "collapsed": false
   },
   "outputs": [
    {
     "name": "stdout",
     "output_type": "stream",
     "text": [
      "Date of university's first \"deep-learning\" publication: 1993\n"
     ]
    }
   ],
   "source": [
    "def date_of_first_pub(place):\n",
    "    first_date = 2011;\n",
    "    for i, person in enumerate(get_hires_and_publications(place)):\n",
    "        if person[\"start\"] == None and len(person['pubs']) == 0:\n",
    "            continue\n",
    "        \n",
    "        for pub in person[\"pubs\"]:\n",
    "            if pub >= person[\"start\"] and pub <= person[\"end\"]:\n",
    "                first_date = min(first_date, pub)\n",
    "\n",
    "    return first_date\n",
    "\n",
    "first_date = date_of_first_pub(place);\n",
    "print \"Date of university's first \\\"deep-learning\\\" publication: {0}\".format(first_date)"
   ]
  },
  {
   "cell_type": "markdown",
   "metadata": {},
   "source": [
    "Did the university hire someone who works on deep-learning within that date - 2 years (allowing for some start-up time)?"
   ]
  },
  {
   "cell_type": "code",
   "execution_count": 171,
   "metadata": {
    "collapsed": false
   },
   "outputs": [
    {
     "name": "stdout",
     "output_type": "stream",
     "text": [
      "\n",
      "Was a \"deep-learning\" researcher hired who might have led to the research area? ({'pubs': [2016, 2016, 2016, 2016, 2016, 2016, 2016, 2016, 2016, 2016, 2016, 2016, 2016, 2016, 2016, 2016, 2016, 2016, 2016, 2016, 2016, 2015, 2015, 2015, 2015, 2015, 2015, 2015, 2015, 2015, 2015, 2015, 2015, 2015, 2015, 2015, 2015, 2015, 2015, 2015, 2015, 2015, 2015, 2015, 2015, 2015, 2015, 2015, 2014, 2014, 2014, 2014, 2014, 2014, 2014, 2014, 2014, 2014, 2014, 2014, 2014, 2014, 2014, 2014, 2014, 2014, 2013, 2013, 2013, 2013, 2013, 2013, 2013, 2013, 2013, 2013, 2013, 2013, 2013, 2013, 2013, 2013, 2013, 2013, 2012, 2012, 2012, 2012, 2012, 2012, 2012, 2012, 2012, 2012, 2012, 2012, 2012, 2012, 2011, 2011, 2011, 2011, 2011, 2011, 2011, 2010, 2010, 2010, 2010, 2010, 2010, 2010, 2009, 2009, 2009, 2008, 2008, 2008, 2008, 2007, 2005, 2005, 2003, 2001, 2001, 2000, 2000, 2000, 1999, 1997, 1997, 1996, 1995, 1995, 1994, 1994, 1993, 1993, 1992, 1992, 1992, 1991, 1991, 1991, 1990, 1990, 1989, 1989], 'start': 1993, 'facultyName': 'Yoshua Bengio', 'end': 2011}, 1991)\n"
     ]
    }
   ],
   "source": [
    "delta_t = 2;\n",
    "def find_infected_hire(delta_t, place):\n",
    "    '''\n",
    "    Returns None if no infected hire found, otherwise the first hire\n",
    "    is returned as (person, year of infectious publication).\n",
    "    '''\n",
    "    candidates = []\n",
    "    for person in get_hires_and_publications(place):\n",
    "        sorted_pubs = sorted(person[\"pubs\"])\n",
    "        if not person[\"start\"] or len(sorted_pubs) == 0:\n",
    "            continue\n",
    "        deltas = map(lambda x: x - person[\"start\"], sorted_pubs)\n",
    "        try:\n",
    "            pub_ix = next((i for i, v in enumerate(deltas) if abs(v) <= delta_t))\n",
    "        except:\n",
    "            pub_ix = None\n",
    "        if pub_ix is not None:\n",
    "            candidates.append((person, sorted_pubs[pub_ix]))\n",
    "\n",
    "        if not candidates:\n",
    "            return None\n",
    "        else:\n",
    "            return min(candidates, key=lambda x: x[1])\n",
    "        \n",
    "print \"\\nWas a \\\"deep-learning\\\" researcher hired who might have led to the research area? {0}\".format(find_infected_hire(delta_t, place))"
   ]
  },
  {
   "cell_type": "markdown",
   "metadata": {},
   "source": [
    "## For all universities"
   ]
  },
  {
   "cell_type": "code",
   "execution_count": 172,
   "metadata": {
    "collapsed": false
   },
   "outputs": [],
   "source": [
    "def rate_of_spread(delta_t):\n",
    "    deep_learning_researcher_hired = 0\n",
    "    deep_learning_institutions = 0\n",
    "    for place in inst.keys():\n",
    "        if place == \"UNKNOWN\" or place == \"All others\":\n",
    "            continue\n",
    "        \n",
    "        hires_and_publications = get_hires_and_publications(place)\n",
    "    \n",
    "        first_date = date_of_first_pub(place)\n",
    "                \n",
    "        #if first_date == 2011:\n",
    "        #    #print \"No \\\"deep-learning\\\" publications found for {0}!\\n\".format(place)\n",
    "        #    continue\n",
    "        if first_date < 2011:\n",
    "            #print \"Date of {0}'s first \\\"deep-learning\\\" publication: {1}\".format(place, first_date)\n",
    "    \n",
    "            hiring_event = find_infected_hire(delta_t, place);\n",
    "            if hiring_event is not None:\n",
    "                deep_learning_researcher_hired += 1\n",
    "            deep_learning_institutions += 1\n",
    "        \n",
    "            #print \"Was a \\\"deep-learning\\\" researcher hired within two-years of the first publication? {0}\\n\".format(hiring_event)\n",
    "        \n",
    "    return deep_learning_researcher_hired/deep_learning_institutions"
   ]
  },
  {
   "cell_type": "code",
   "execution_count": 173,
   "metadata": {
    "collapsed": false
   },
   "outputs": [
    {
     "data": {
      "text/plain": [
       "0.10416666666666667"
      ]
     },
     "execution_count": 173,
     "metadata": {},
     "output_type": "execute_result"
    }
   ],
   "source": [
    "delta_t = 2;\n",
    "rate_of_spread(delta_t)"
   ]
  },
  {
   "cell_type": "code",
   "execution_count": 174,
   "metadata": {
    "collapsed": false
   },
   "outputs": [
    {
     "data": {
      "text/plain": [
       "0.2013888888888889"
      ]
     },
     "execution_count": 174,
     "metadata": {},
     "output_type": "execute_result"
    }
   ],
   "source": [
    "delta_t = 3;\n",
    "rate_of_spread(delta_t)"
   ]
  },
  {
   "cell_type": "code",
   "execution_count": 175,
   "metadata": {
    "collapsed": false
   },
   "outputs": [
    {
     "data": {
      "text/plain": [
       "0.2638888888888889"
      ]
     },
     "execution_count": 175,
     "metadata": {},
     "output_type": "execute_result"
    }
   ],
   "source": [
    "delta_t = 4;\n",
    "rate_of_spread(delta_t)"
   ]
  },
  {
   "cell_type": "code",
   "execution_count": null,
   "metadata": {
    "collapsed": true
   },
   "outputs": [],
   "source": []
  }
 ],
 "metadata": {
  "kernelspec": {
   "display_name": "Python 2",
   "language": "python",
   "name": "python2"
  },
  "language_info": {
   "codemirror_mode": {
    "name": "ipython",
    "version": 2
   },
   "file_extension": ".py",
   "mimetype": "text/x-python",
   "name": "python",
   "nbconvert_exporter": "python",
   "pygments_lexer": "ipython2",
   "version": "2.7.12"
  }
 },
 "nbformat": 4,
 "nbformat_minor": 1
}
