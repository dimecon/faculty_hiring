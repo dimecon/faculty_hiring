{
 "cells": [
  {
   "cell_type": "code",
   "execution_count": 7,
   "metadata": {
    "collapsed": false
   },
   "outputs": [],
   "source": [
    "from __future__ import division\n",
    "\n",
    "from faculty_hiring.misc.util import *\n",
    "from faculty_hiring.misc.plotting import *  # Definitions for LABEL_SIZE, colors, etc.\n",
    "from faculty_hiring.misc.productivity import *\n",
    "from faculty_hiring.parse import faculty_parser, institution_parser\n",
    "from faculty_hiring.parse import load\n",
    "from faculty_hiring.misc.subfield import topic_descriptions, longer_topic_descriptions, num_topics \n",
    "\n",
    "import numpy as np\n",
    "import scipy as sp\n",
    "import palettable\n",
    "\n",
    "from scipy.stats.stats import pearsonr, mannwhitneyu, ttest_ind\n",
    "from scipy.stats import ttest_ind, ks_2samp, chi2_contingency, mannwhitneyu\n",
    "from collections import Counter"
   ]
  },
  {
   "cell_type": "code",
   "execution_count": 8,
   "metadata": {
    "collapsed": true
   },
   "outputs": [],
   "source": [
    "faculty_file = '/Users/allisonmorgan/Documents/faculty_hiring/publication_data/current_data/faculty_cs_CURRENT.txt'\n",
    "inst_file = '/Users/allisonmorgan/Documents/faculty_hiring/publication_data/current_data/inst_cs_CURRENT.txt'\n",
    "figures_dir = '/Users/allisonmorgan/Code/src/github.com/allisonmorgan/faculty_hiring/notebooks-productivity/figures/'\n",
    "\n",
    "# Path to prepped DBLP pickles\n",
    "dblp_dir = '/Users/allisonmorgan/Documents/faculty_hiring/publication_data/profiles_DBLP_Nov16/'"
   ]
  },
  {
   "cell_type": "code",
   "execution_count": 9,
   "metadata": {
    "collapsed": false
   },
   "outputs": [],
   "source": [
    "inst = institution_parser.parse_institution_records(open(inst_file))\n",
    "asst_faculty = load.load_assistant_profs(open(faculty_file), inst, ranking='pi')\n",
    "load.load_all_publications(asst_faculty, dblp_dir)  # This takes a minute.."
   ]
  },
  {
   "cell_type": "markdown",
   "metadata": {},
   "source": [
    "# Total Number of Publications"
   ]
  },
  {
   "cell_type": "code",
   "execution_count": 82,
   "metadata": {
    "collapsed": false
   },
   "outputs": [],
   "source": [
    "# Number of publications for all current assistant faculty of a university. Adjusted for inflation\n",
    "# Set limit_by_years_post_hire flag to True to consider only the contributions within the first 5 \n",
    "# years of a researcher's career.\n",
    "limit_by_years_post_hire = False\n",
    "ignore = ['All others', 'UNKNOWN', 'CUNY Graduate Center']\n",
    "pubs_by_inst = {}\n",
    "pubs_by_year_by_inst = {}\n",
    "for (name, inst_data) in inst.items():\n",
    "    if name in ignore:\n",
    "        continue\n",
    "    current_faculty = faculty_at_institution(name, asst_faculty)\n",
    "    n_pubs = []; n_pubs_by_year = [];\n",
    "    for person in current_faculty:\n",
    "        start = person.first_asst_job_year\n",
    "        if limit_by_years_post_hire:\n",
    "            end = np.min([2012, person.first_asst_job_year + 5])\n",
    "        else:\n",
    "            end = 2012\n",
    "        career_length = end - start\n",
    "        \n",
    "        if person.__contains__('dblp_pubs'):\n",
    "            contribution = 0\n",
    "            for pub in person.dblp_pubs:\n",
    "                if 'year' in pub \\\n",
    "                      and pub['year'] >= start \\\n",
    "                      and pub['year'] < end \\\n",
    "                      and pub['pub_type'] in ['inproceedings', 'article']:\n",
    "                    contribution += inflation_adjust(pub['year'])\n",
    "                    #contribution += 1\n",
    "            \n",
    "            n_pubs.append((person.facultyName, contribution))\n",
    "            n_pubs_by_year.append((person.facultyName, contribution/float(career_length)))\n",
    "    if len(n_pubs) > 0:\n",
    "        pubs_by_inst[name] = n_pubs\n",
    "        pubs_by_year_by_inst[name] = n_pubs_by_year"
   ]
  },
  {
   "cell_type": "code",
   "execution_count": 83,
   "metadata": {
    "collapsed": false
   },
   "outputs": [
    {
     "name": "stdout",
     "output_type": "stream",
     "text": [
      "(('Alex Aiken', 6.565250679972073), ('Alex Aiken', 124.73976291946938))\n"
     ]
    }
   ],
   "source": [
    "print(pubs_by_year_by_inst['Stanford University'][0], pubs_by_inst['Stanford University'][0])"
   ]
  },
  {
   "cell_type": "code",
   "execution_count": 86,
   "metadata": {
    "collapsed": true
   },
   "outputs": [],
   "source": [
    "# Plot of differences in productivity from the mean\n",
    "def plot_distribution_of_productivity(data):\n",
    "    diffs = []\n",
    "    for (name, n_pubs) in data.items():\n",
    "        counts = [np.log(pubs + 1) for _, pubs in n_pubs]\n",
    "        \n",
    "        avg = np.mean(counts)\n",
    "        diffs.extend([(count - avg) for count in counts])\n",
    "    \n",
    "    print(sp.stats.mstats.normaltest(diffs))\n",
    "        \n",
    "    fig, ax = plt.subplots(1,1, figsize=SINGLE_FIG_SIZE)\n",
    "    plt.hist(diffs)\n",
    "    plt.show()"
   ]
  },
  {
   "cell_type": "code",
   "execution_count": 87,
   "metadata": {
    "collapsed": false
   },
   "outputs": [
    {
     "name": "stdout",
     "output_type": "stream",
     "text": [
      "NormaltestResult(statistic=27.409853395514581, pvalue=1.1169300111067217e-06)\n"
     ]
    },
    {
     "data": {
      "image/png": "[encoded data removed]",
      "text/plain": [
       "<matplotlib.figure.Figure at 0x121984050>"
      ]
     },
     "metadata": {},
     "output_type": "display_data"
    }
   ],
   "source": [
    "plot_distribution_of_productivity(pubs_by_year_by_inst)"
   ]
  },
  {
   "cell_type": "markdown",
   "metadata": {},
   "source": [
    "### Prestige"
   ]
  },
  {
   "cell_type": "markdown",
   "metadata": {},
   "source": [
    "The following two plots shows the median number of publications per faculty (adjusted for inflation). \n",
    "Two lines are fit through private and public university medians respectively."
   ]
  },
  {
   "cell_type": "code",
   "execution_count": 12,
   "metadata": {
    "collapsed": false
   },
   "outputs": [
    {
     "name": "stdout",
     "output_type": "stream",
     "text": [
      "Line of best fit for private schools has a slope of -0.2787 and a r^2 of 0.4406\n",
      "Line of best fit for public schools has a slope of -0.2657 and a r^2 of 0.3133\n"
     ]
    }
   ],
   "source": [
    "plot_pubs_versus_prestige(pubs_by_inst, 'Number of publications (lifetime)', function=np.median, percentiles=True)"
   ]
  },
  {
   "cell_type": "markdown",
   "metadata": {},
   "source": [
    "# Fractional Author Contribution"
   ]
  },
  {
   "cell_type": "code",
   "execution_count": null,
   "metadata": {
    "collapsed": false
   },
   "outputs": [],
   "source": [
    "# Fractional contribution of publications for all current assistant faculty of a university\n",
    "frac_pubs_by_inst = {};\n",
    "for (name, inst_data) in inst.items():\n",
    "    if name in ignore:\n",
    "        continue\n",
    "    current_faculty = faculty_at_institution(name, asst_faculty)\n",
    "    frac_n_pubs = []\n",
    "    for person in current_faculty:\n",
    "        start = person.first_asst_job_year\n",
    "        if person.__contains__('dblp_pubs'):            \n",
    "            frac_contribution = 0\n",
    "            for pub in person.dblp_pubs:\n",
    "                if 'year' in pub and pub['year'] >= start and pub['year'] < 2012 and pub['pub_type'] in ['inproceedings', 'article']:\n",
    "                    frac_contribution += inflation_adjust(pub['year'])/float(len(pub['authors']))\n",
    "            frac_n_pubs.append((person.facultyName, frac_contribution))\n",
    "            \n",
    "    if len(n_pubs) > 0:\n",
    "        frac_pubs_by_inst[name] = frac_n_pubs"
   ]
  },
  {
   "cell_type": "markdown",
   "metadata": {},
   "source": [
    "### Prestige"
   ]
  },
  {
   "cell_type": "code",
   "execution_count": null,
   "metadata": {
    "collapsed": false
   },
   "outputs": [],
   "source": [
    "plot_pubs_versus_prestige(frac_pubs_by_inst, 'Fractional Contribution', function=np.median, percentiles=True, fit=True, private=True)"
   ]
  },
  {
   "cell_type": "markdown",
   "metadata": {},
   "source": [
    "# Exclude Middle Author Role From Number of Publications"
   ]
  },
  {
   "cell_type": "code",
   "execution_count": null,
   "metadata": {
    "collapsed": false
   },
   "outputs": [],
   "source": [
    "# Number of publications for all current assistant faculty of a university\n",
    "first_and_last_pubs_by_inst = {}\n",
    "for (name, inst_data) in inst.items():\n",
    "    if name in ignore:\n",
    "        continue\n",
    "    current_faculty = faculty_at_institution(name, asst_faculty)\n",
    "    n_pubs = []\n",
    "    for person in current_faculty:\n",
    "        start = person.first_asst_job_year\n",
    "        if person.__contains__('dblp_pubs'):\n",
    "            first_and_last_contributions = 0\n",
    "            for pub in person.dblp_pubs:\n",
    "                if 'year' in pub and pub['year'] >= start and pub['year'] < 2012 and pub['pub_type'] in ['inproceedings', 'article']:\n",
    "                    if pub['author_role'] != 1:\n",
    "                        first_and_last_contributions += inflation_adjust(pub['year'])\n",
    "            n_pubs.append((person.facultyName, first_and_last_contributions))\n",
    "    \n",
    "    if len(n_pubs) > 0:\n",
    "        first_and_last_pubs_by_inst[name] = n_pubs"
   ]
  },
  {
   "cell_type": "markdown",
   "metadata": {},
   "source": [
    "### Prestige"
   ]
  },
  {
   "cell_type": "code",
   "execution_count": null,
   "metadata": {
    "collapsed": false
   },
   "outputs": [],
   "source": [
    "plot_pubs_versus_prestige(first_and_last_pubs_by_inst, 'Number of FAP & LAP', function=np.median, percentiles=True, fit=True, private=True)"
   ]
  },
  {
   "cell_type": "code",
   "execution_count": null,
   "metadata": {
    "collapsed": true
   },
   "outputs": [],
   "source": []
  }
 ],
 "metadata": {
  "kernelspec": {
   "display_name": "Python 2",
   "language": "python",
   "name": "python2"
  },
  "language_info": {
   "codemirror_mode": {
    "name": "ipython",
    "version": 2
   },
   "file_extension": ".py",
   "mimetype": "text/x-python",
   "name": "python",
   "nbconvert_exporter": "python",
   "pygments_lexer": "ipython2",
   "version": "2.7.12"
  }
 },
 "nbformat": 4,
 "nbformat_minor": 1
}
