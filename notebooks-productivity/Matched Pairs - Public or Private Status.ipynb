{
 "cells": [
  {
   "cell_type": "code",
   "execution_count": 1,
   "metadata": {
    "collapsed": false
   },
   "outputs": [],
   "source": [
    "%matplotlib inline\n",
    "\n",
    "from __future__ import division\n",
    "\n",
    "from faculty_hiring.misc.util import *\n",
    "from faculty_hiring.misc.plotting import *  # Definitions for LABEL_SIZE and such\n",
    "from faculty_hiring.misc.productivity import *\n",
    "from faculty_hiring.parse import faculty_parser, institution_parser\n",
    "from faculty_hiring.parse import load\n",
    "\n",
    "from random import choice\n",
    "import numpy as np\n",
    "import scipy as sp\n",
    "\n",
    "# File locations\n",
    "faculty_file = '/Users/allisonmorgan/Documents/faculty_hiring/publication_data/current_data/faculty_cs_CURRENT.txt'\n",
    "inst_file = '/Users/allisonmorgan/Documents/faculty_hiring/publication_data/current_data/inst_cs_CURRENT.txt'\n",
    "figures_dir = 'Users/allisonmorgan/Documents/faculty_hiring/notebooks-productivity/figures/'\n",
    "\n",
    "# (Optional, these are for loading publication profiles)\n",
    "dblp_dir = '/Users/allisonmorgan/Documents/faculty_hiring/publication_data/profiles_DBLP_Nov16/'"
   ]
  },
  {
   "cell_type": "code",
   "execution_count": 2,
   "metadata": {
    "collapsed": false
   },
   "outputs": [],
   "source": [
    "inst = institution_parser.parse_institution_records(open(inst_file))\n",
    "asst_faculty = load.load_assistant_profs(open(faculty_file), inst, ranking='pi')\n",
    "ignore = ['All others', 'UNKNOWN', 'CUNY Graduate Center']\n",
    "\n",
    "load.load_all_publications(asst_faculty, dblp_dir)"
   ]
  },
  {
   "cell_type": "markdown",
   "metadata": {},
   "source": [
    "## Profile the Schools"
   ]
  },
  {
   "cell_type": "markdown",
   "metadata": {},
   "source": [
    "Pre-compute all information that we'll need in order to match pairs of schools"
   ]
  },
  {
   "cell_type": "code",
   "execution_count": 3,
   "metadata": {
    "collapsed": false
   },
   "outputs": [],
   "source": [
    "# Number of publications for all current assistant faculty of a university. Adjusted for inflation\n",
    "def publication_data(function = np.average, limit_by_years_post_hire=False, num_years=5):\n",
    "    pubs_by_inst = {}\n",
    "    prestige_map = {}\n",
    "    for (name, inst_data) in inst.items():\n",
    "        if name in ignore:\n",
    "            continue\n",
    "        current_faculty = faculty_at_institution(name, asst_faculty)\n",
    "        n_pubs = []\n",
    "        for person in current_faculty:\n",
    "            start = person.first_asst_job_year\n",
    "            if limit_by_years_post_hire:\n",
    "                end = np.min([2012, person.first_asst_job_year + num_years])\n",
    "            else:\n",
    "                end = 2012\n",
    "            career_length = end - start\n",
    "                \n",
    "            if person.__contains__('dblp_pubs'):\n",
    "                contribution = 0 \n",
    "                for pub in person.dblp_pubs:\n",
    "                    if 'year' in pub \\\n",
    "                      and pub['year'] >= start \\\n",
    "                      and pub['year'] < end \\\n",
    "                      and pub['pub_type'] in ['inproceedings', 'article']:\n",
    "                        contribution += inflation_adjust(pub['year'])\n",
    "                pubs_per_year = contribution / career_length\n",
    "                n_pubs.append(pubs_per_year)\n",
    "\n",
    "        pubs_by_inst[name] = {\"total_pubs_by_author\": function(n_pubs), \n",
    "                              \"status\": inst_data['private'], \n",
    "                              \"rank\": inst_data['pi'],\n",
    "                              \"dept_size\": len(n_pubs)} \n",
    "        prestige_map[inst_data['pi']] = name\n",
    "    \n",
    "    return (pubs_by_inst, prestige_map)\n",
    "\n",
    "pubs_by_inst, prestige_map = publication_data(function=np.mean, limit_by_years_post_hire=False)"
   ]
  },
  {
   "cell_type": "markdown",
   "metadata": {},
   "source": [
    "## Match Them"
   ]
  },
  {
   "cell_type": "code",
   "execution_count": 5,
   "metadata": {
    "collapsed": false
   },
   "outputs": [],
   "source": [
    "public = []\n",
    "private = []\n",
    "\n",
    "for place in pubs_by_inst:\n",
    "    if pubs_by_inst[place]['rank'] >= 0 and place not in ignore:\n",
    "        if pubs_by_inst[place]['status'] == 0:\n",
    "            public.append((place, pubs_by_inst[place]))\n",
    "        else:\n",
    "            private.append((place, pubs_by_inst[place]))"
   ]
  },
  {
   "cell_type": "code",
   "execution_count": 6,
   "metadata": {
    "collapsed": false
   },
   "outputs": [
    {
     "name": "stdout",
     "output_type": "stream",
     "text": [
      "There are 151 public schools and 53 private schools (204 total).\n"
     ]
    }
   ],
   "source": [
    "print(\"There are %d public schools and %d private schools (%d total).\" % (len(public), len(private), len(public)+len(private)))"
   ]
  },
  {
   "cell_type": "code",
   "execution_count": 7,
   "metadata": {
    "collapsed": false
   },
   "outputs": [],
   "source": [
    "def get_matched_pairs(public, private, skip=0.0):\n",
    "    pairs = []\n",
    "    scores = []\n",
    "    \n",
    "    available = {}\n",
    "    for name, _ in public:\n",
    "        available[name] = True\n",
    "    \n",
    "    possible_matches = len(private)\n",
    "    grab = (1-skip)*possible_matches\n",
    "    num_matches = 0\n",
    "    \n",
    "    # Go through all private schools\n",
    "    for p1, p1_data in private:\n",
    "        best_score = np.inf\n",
    "        \n",
    "        best_match = \"\"\n",
    "        # Find a matching public school\n",
    "        for p2, p2_data in public:\n",
    "            # Only consider this school if we haven't already deleted it\n",
    "            if available.has_key(p2):\n",
    "                # Match on rank\n",
    "                score = abs(p2_data[\"rank\"] - p1_data[\"rank\"])\n",
    "                if score < best_score:\n",
    "                    best_match = p2\n",
    "                    best_score = score\n",
    "        \n",
    "        del available[best_match]\n",
    "        pairs.append((p1, best_match))\n",
    "        scores.append(best_score)\n",
    " \n",
    "        num_matches += 1\n",
    "        if num_matches > grab:\n",
    "            break\n",
    "                \n",
    "    return pairs, scores"
   ]
  },
  {
   "cell_type": "code",
   "execution_count": 9,
   "metadata": {
    "collapsed": false
   },
   "outputs": [
    {
     "name": "stdout",
     "output_type": "stream",
     "text": [
      "California Institute of Technology (Private)\t<-->\tUC Berkeley (Public)\tScore: 2.930000\n",
      "Stevens Institute of Technology (Private)\t<-->\tState University of New York, Buffalo (Public)\tScore: 0.240000\n",
      "Dartmouth College (Private)\t<-->\tUniversity of Virginia (Public)\tScore: 0.210000\n",
      "Catholic University of America (Private)\t<-->\tClemson University (Public)\tScore: 0.410000\n",
      "University of Pennsylvania (Private)\t<-->\tUniversity of Wisconsin, Madison (Public)\tScore: 1.190000\n",
      "Pace University (Private)\t<-->\tNew Mexico Institute of Mining and Technology (Public)\tScore: 0.120000\n",
      "University of Chicago (Private)\t<-->\tUniversity of Texas, Austin (Public)\tScore: 0.620000\n",
      "Cornell University (Private)\t<-->\tUniversity of Washington (Public)\tScore: 2.770000\n",
      "Brandeis University (Private)\t<-->\tMcMaster University (Public)\tScore: 0.540000\n",
      "University of Notre Dame (Private)\t<-->\tWayne State University (Public)\tScore: 0.780000\n",
      "University of Bridgeport (Private)\t<-->\tUniversity of Arkansas, Fayetteville (Public)\tScore: 0.030000\n",
      "Florida Institute of Technology (Private)\t<-->\tUniversity of Arkansas, Little Rock (Public)\tScore: 0.390000\n",
      "Brigham Young University (Private)\t<-->\tUniversity of Mississippi (Public)\tScore: 1.030000\n",
      "Santa Clara University (Private)\t<-->\tUniversity of Alabama, Birmingham (Public)\tScore: 0.210000\n",
      "Claremont Graduate University (Private)\t<-->\tUniversity of Massachusetts, Lowell (Public)\tScore: 0.510000\n",
      "Duke University (Private)\t<-->\tUniversity of North Carolina, Chapel Hill (Public)\tScore: 0.950000\n",
      "Total number of matches made: 16\n"
     ]
    }
   ],
   "source": [
    "np.random.shuffle(private)\n",
    "pairs, scores = get_matched_pairs(public, private, skip=0.7)\n",
    "for i, (p1, p2) in enumerate(pairs):\n",
    "    print '%s (%s)\\t<-->\\t%s (%s)\\tScore: %f' % (p1, \"Private\", p2, \"Public\", scores[i])\n",
    "print \"Total number of matches made: %d\" % (len(pairs))"
   ]
  },
  {
   "cell_type": "code",
   "execution_count": 275,
   "metadata": {
    "collapsed": false
   },
   "outputs": [
    {
     "name": "stdout",
     "output_type": "stream",
     "text": [
      "2.14853407284e-11\n",
      "Ttest_1sampResult(statistic=-4.7989443916580639, pvalue=2.0163671515554616e-06)\n"
     ]
    }
   ],
   "source": [
    "total_trials = 0\n",
    "num_positive = 0\n",
    "advantages = []\n",
    "diffs = []\n",
    "rank_diffs = []\n",
    "\n",
    "for time in xrange(100):\n",
    "    # Shuffle the private schools so we aren't always making the same matches\n",
    "    np.random.shuffle(private)\n",
    "    \n",
    "    pairs,_ = get_matched_pairs(public, private, skip=0.9)\n",
    "    for p1, p2 in pairs:\n",
    "        # Who published more? Was this a private university?\n",
    "        assert inst[p1]['private'] == 1\n",
    "        assert inst[p2]['private'] == 0\n",
    "        \n",
    "        private_university = 0\n",
    "        published_more = np.argmax([pubs_by_inst[p1][\"total_pubs_by_author\"], pubs_by_inst[p2][\"total_pubs_by_author\"]])\n",
    "        \n",
    "        diff = pubs_by_inst[p1][\"total_pubs_by_author\"] - pubs_by_inst[p2][\"total_pubs_by_author\"]\n",
    "        diffs.append(diff)\n",
    "        \n",
    "        rank_diff = pubs_by_inst[p1][\"rank\"] - pubs_by_inst[p2][\"rank\"]\n",
    "        rank_diffs.append(rank_diff)\n",
    "        \n",
    "        if private_university == published_more:\n",
    "            num_positive += 1\n",
    "            advantages.append(diff)\n",
    "        total_trials += 1\n",
    "    \n",
    "print sp.stats.binom_test(num_positive, total_trials, .5, alternative='two-sided')\n",
    "print sp.stats.ttest_1samp(diffs, popmean=0)"
   ]
  },
  {
   "cell_type": "code",
   "execution_count": 276,
   "metadata": {
    "collapsed": false
   },
   "outputs": [
    {
     "name": "stdout",
     "output_type": "stream",
     "text": [
      "0.363333333333\n"
     ]
    }
   ],
   "source": [
    "print float(num_positive) / total_trials"
   ]
  },
  {
   "cell_type": "code",
   "execution_count": 277,
   "metadata": {
    "collapsed": false
   },
   "outputs": [
    {
     "data": {
      "text/plain": [
       "600"
      ]
     },
     "execution_count": 277,
     "metadata": {},
     "output_type": "execute_result"
    }
   ],
   "source": [
    "total_trials"
   ]
  },
  {
   "cell_type": "code",
   "execution_count": 278,
   "metadata": {
    "collapsed": false
   },
   "outputs": [
    {
     "name": "stdout",
     "output_type": "stream",
     "text": [
      "-0.343473669713 -0.458507449582\n"
     ]
    }
   ],
   "source": [
    "print np.median(diffs), np.mean(diffs)"
   ]
  },
  {
   "cell_type": "code",
   "execution_count": 279,
   "metadata": {
    "collapsed": false
   },
   "outputs": [
    {
     "data": {
      "text/plain": [
       "(array([   1.,    9.,   60.,   26.,   88.,  169.,  109.,   64.,   38.,   36.]),\n",
       " array([-7.35225817, -6.15260606, -4.95295395, -3.75330184, -2.55364972,\n",
       "        -1.35399761, -0.1543455 ,  1.04530661,  2.24495873,  3.44461084,\n",
       "         4.64426295]),\n",
       " <a list of 10 Patch objects>)"
      ]
     },
     "execution_count": 279,
     "metadata": {},
     "output_type": "execute_result"
    },
    {
     "data": {
      "image/png": "[encoded data removed]",
      "text/plain": [
       "<matplotlib.figure.Figure at 0x12a987a10>"
      ]
     },
     "metadata": {},
     "output_type": "display_data"
    }
   ],
   "source": [
    "plt.hist(diffs)"
   ]
  },
  {
   "cell_type": "code",
   "execution_count": 268,
   "metadata": {
    "collapsed": false
   },
   "outputs": [],
   "source": [
    "private_ages = []\n",
    "public_ages = []\n",
    "\n",
    "private_junior = 0.\n",
    "public_junior = 0.\n",
    "\n",
    "for person in asst_faculty:\n",
    "    if 'dblp_pubs' not in person: continue \n",
    "    junior = int(person.current == 'Assistant Professor')\n",
    "    if inst[person.place]['private']:\n",
    "        private_ages.append(person.first_asst_job_year)\n",
    "        private_junior += junior\n",
    "    else:\n",
    "        public_ages.append(person.first_asst_job_year)\n",
    "        public_junior += junior"
   ]
  },
  {
   "cell_type": "code",
   "execution_count": 257,
   "metadata": {
    "collapsed": false
   },
   "outputs": [
    {
     "data": {
      "image/png": "[encoded data removed]",
      "text/plain": [
       "<matplotlib.figure.Figure at 0x12b82b290>"
      ]
     },
     "metadata": {},
     "output_type": "display_data"
    }
   ],
   "source": [
    "plt.hist(private_ages)\n",
    "plt.hist(public_ages, alpha=0.1)\n",
    "plt.show()"
   ]
  },
  {
   "cell_type": "code",
   "execution_count": 230,
   "metadata": {
    "collapsed": false
   },
   "outputs": [
    {
     "data": {
      "text/plain": [
       "Ks_2sampResult(statistic=0.051318672791033693, pvalue=0.19017505849388155)"
      ]
     },
     "execution_count": 230,
     "metadata": {},
     "output_type": "execute_result"
    }
   ],
   "source": [
    "sp.stats.ks_2samp(private_ages, public_ages)"
   ]
  },
  {
   "cell_type": "code",
   "execution_count": 234,
   "metadata": {
    "collapsed": false
   },
   "outputs": [
    {
     "name": "stdout",
     "output_type": "stream",
     "text": [
      "0.230502599653 0.228144989339\n"
     ]
    }
   ],
   "source": [
    "frac_pub = public_junior / len(public_ages)\n",
    "frac_prv = private_junior / len(private_ages)\n",
    "\n",
    "print frac_prv, frac_pub"
   ]
  },
  {
   "cell_type": "code",
   "execution_count": 235,
   "metadata": {
    "collapsed": false
   },
   "outputs": [
    {
     "data": {
      "text/plain": [
       "0.82645552429156632"
      ]
     },
     "execution_count": 235,
     "metadata": {},
     "output_type": "execute_result"
    }
   ],
   "source": [
    "sp.stats.binom_test(public_junior, len(public_ages), frac_prv)"
   ]
  },
  {
   "cell_type": "code",
   "execution_count": 216,
   "metadata": {
    "collapsed": false
   },
   "outputs": [
    {
     "data": {
      "text/plain": [
       "<matplotlib.collections.PathCollection at 0x12b787bd0>"
      ]
     },
     "execution_count": 216,
     "metadata": {},
     "output_type": "execute_result"
    },
    {
     "data": {
      "image/png": "[encoded data removed]",
      "text/plain": [
       "<matplotlib.figure.Figure at 0x12b33c090>"
      ]
     },
     "metadata": {},
     "output_type": "display_data"
    }
   ],
   "source": [
    "ranks = []\n",
    "conts = []\n",
    "\n",
    "for place in pubs_by_inst:\n",
    "    ranks.append(pubs_by_inst[place]['rank'])\n",
    "    conts.append(pubs_by_inst[place]['total_pubs_by_author'])\n",
    "    \n",
    "plt.scatter(ranks, conts)"
   ]
  },
  {
   "cell_type": "markdown",
   "metadata": {
    "collapsed": true
   },
   "source": [
    "## First-x years"
   ]
  },
  {
   "cell_type": "code",
   "execution_count": 56,
   "metadata": {
    "collapsed": false
   },
   "outputs": [],
   "source": [
    "pubs_by_inst_five, prestige_map_five = publication_data(function=np.mean, limit_by_years_post_hire=True, num_years=10)"
   ]
  },
  {
   "cell_type": "code",
   "execution_count": 52,
   "metadata": {
    "collapsed": false
   },
   "outputs": [
    {
     "name": "stdout",
     "output_type": "stream",
     "text": [
      "0.00217347341485\n",
      "Ttest_1sampResult(statistic=-3.08538260334839, pvalue=0.0021266695697283525)\n"
     ]
    }
   ],
   "source": [
    "total_trials = 0\n",
    "num_positive = 0\n",
    "advantages = []\n",
    "diffs = []\n",
    "rank_diffs = []\n",
    "\n",
    "for time in xrange(100):\n",
    "    # Shuffle the private schools so we aren't always making the same matches\n",
    "    np.random.shuffle(private)\n",
    "    \n",
    "    pairs,_ = get_matched_pairs(public, private, skip=0.9)\n",
    "    for p1, p2 in pairs:\n",
    "        # Who published more? Was this a private university?\n",
    "        assert inst[p1]['private'] == 1\n",
    "        assert inst[p2]['private'] == 0\n",
    "        \n",
    "        private_university = 0\n",
    "        published_more = np.argmax([pubs_by_inst_five[p1][\"total_pubs_by_author\"], pubs_by_inst_five[p2][\"total_pubs_by_author\"]])\n",
    "        \n",
    "        diff = pubs_by_inst_five[p1][\"total_pubs_by_author\"] - pubs_by_inst_five[p2][\"total_pubs_by_author\"]\n",
    "        diffs.append(diff)\n",
    "        \n",
    "        rank_diff = pubs_by_inst_five[p1][\"rank\"] - pubs_by_inst_five[p2][\"rank\"]\n",
    "        rank_diffs.append(rank_diff)\n",
    "        \n",
    "        if private_university == published_more:\n",
    "            num_positive += 1\n",
    "            advantages.append(diff)\n",
    "        total_trials += 1\n",
    "    \n",
    "print sp.stats.binom_test(num_positive, total_trials, .5, alternative='two-sided')\n",
    "print sp.stats.ttest_1samp(diffs, popmean=0)"
   ]
  },
  {
   "cell_type": "code",
   "execution_count": 53,
   "metadata": {
    "collapsed": false
   },
   "outputs": [
    {
     "name": "stdout",
     "output_type": "stream",
     "text": [
      "0.436666666667\n"
     ]
    }
   ],
   "source": [
    "print float(num_positive) / total_trials"
   ]
  },
  {
   "cell_type": "code",
   "execution_count": 54,
   "metadata": {
    "collapsed": false
   },
   "outputs": [
    {
     "data": {
      "text/plain": [
       "600"
      ]
     },
     "execution_count": 54,
     "metadata": {},
     "output_type": "execute_result"
    }
   ],
   "source": [
    "total_trials"
   ]
  },
  {
   "cell_type": "code",
   "execution_count": 55,
   "metadata": {
    "collapsed": false
   },
   "outputs": [
    {
     "name": "stdout",
     "output_type": "stream",
     "text": [
      "-0.247251859504 -0.284726734925\n"
     ]
    }
   ],
   "source": [
    "print np.median(diffs), np.mean(diffs)"
   ]
  },
  {
   "cell_type": "code",
   "execution_count": null,
   "metadata": {
    "collapsed": true
   },
   "outputs": [],
   "source": []
  }
 ],
 "metadata": {
  "kernelspec": {
   "display_name": "Python 2",
   "language": "python",
   "name": "python2"
  },
  "language_info": {
   "codemirror_mode": {
    "name": "ipython",
    "version": 2
   },
   "file_extension": ".py",
   "mimetype": "text/x-python",
   "name": "python",
   "nbconvert_exporter": "python",
   "pygments_lexer": "ipython2",
   "version": "2.7.12"
  }
 },
 "nbformat": 4,
 "nbformat_minor": 0
}
