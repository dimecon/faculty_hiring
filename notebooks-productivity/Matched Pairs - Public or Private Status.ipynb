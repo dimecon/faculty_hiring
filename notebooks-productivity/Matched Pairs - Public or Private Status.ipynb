{
 "cells": [
  {
   "cell_type": "code",
   "execution_count": 4,
   "metadata": {
    "collapsed": false
   },
   "outputs": [],
   "source": [
    "%matplotlib inline\n",
    "\n",
    "from __future__ import division\n",
    "\n",
    "from faculty_hiring.misc.util import *\n",
    "from faculty_hiring.misc.plotting import *  # Definitions for LABEL_SIZE and such\n",
    "from faculty_hiring.misc.productivity import *\n",
    "from faculty_hiring.parse import faculty_parser, institution_parser\n",
    "from faculty_hiring.parse import load\n",
    "from faculty_hiring.parse.nces import parse_phds_awarded\n",
    "from faculty_hiring.misc.subfield import topic_descriptions, longer_topic_descriptions, num_topics \n",
    "\n",
    "from sklearn import linear_model\n",
    "from collections import Counter\n",
    "from fuzzywuzzy import fuzz\n",
    "from random import choice\n",
    "import statsmodels.api as sm\n",
    "import numpy as np\n",
    "import scipy as sp\n",
    "import pandas as pd\n",
    "\n",
    "sig_level = 0.05\n",
    "\n",
    "# File locations\n",
    "faculty_file = '/Users/allisonmorgan/Documents/faculty_hiring/publication_data/current_data/faculty_cs_CURRENT.txt'\n",
    "inst_file = '/Users/allisonmorgan/Documents/faculty_hiring/publication_data/current_data/inst_cs_CURRENT.txt'\n",
    "figures_dir = '/Users/allisonmorgan/Code/src/github.com/samfway/faculty_hiring/notebooks-productivity/figures/'\n",
    "#nces_table = '/Users/samway/Documents/Work/ClausetLab/projects/faculty_hiring/data/nces_table.txt'\n",
    "\n",
    "# (Optional, these are for loading publication profiles)\n",
    "dblp_dir = '/Users/allisonmorgan/Documents/faculty_hiring/publication_data/profiles_DBLP_Nov16/'"
   ]
  },
  {
   "cell_type": "code",
   "execution_count": 5,
   "metadata": {
    "collapsed": false
   },
   "outputs": [],
   "source": [
    "inst = institution_parser.parse_institution_records(open(inst_file))\n",
    "asst_faculty = load.load_assistant_profs(open(faculty_file), inst, ranking='pi')\n",
    "ignore = ['All others', 'UNKNOWN', 'CUNY Graduate Center']\n",
    "inst_keys = [place for place in inst if place not in ignore]\n",
    "inst_keys = [s[1] for s in sorted([(inst[place]['pi'], place) for place in inst_keys])]\n",
    "inst_keys_top = inst_keys[:99]\n",
    "\n",
    "load.load_all_publications(asst_faculty, dblp_dir)"
   ]
  },
  {
   "cell_type": "markdown",
   "metadata": {},
   "source": [
    "## Profile the Schools"
   ]
  },
  {
   "cell_type": "markdown",
   "metadata": {},
   "source": [
    "Pre-compute all information that we'll need in order to match pairs of schools"
   ]
  },
  {
   "cell_type": "code",
   "execution_count": 6,
   "metadata": {
    "collapsed": false
   },
   "outputs": [],
   "source": [
    "# Number of publications for all current assistant faculty of a university. Adjusted for inflation\n",
    "pubs_by_inst = {}\n",
    "for (name, inst_data) in inst.items():\n",
    "    if name in ignore:\n",
    "        continue\n",
    "    current_faculty = faculty_at_institution(name, asst_faculty)\n",
    "    n_pubs = []\n",
    "    for person in current_faculty:\n",
    "        if person.__contains__('dblp_pubs'):\n",
    "            contribution = 0\n",
    "            for pub in person.dblp_pubs:\n",
    "                contribution += inflation_adjust(pub['year'])\n",
    "            n_pubs.append(contribution)\n",
    "    if len(n_pubs) > 0:\n",
    "        pubs_by_inst[name] = {\"total_pubs_by_author\": n_pubs, \"status\": inst_data['private'], \"rank\": inst_data['pi']} "
   ]
  },
  {
   "cell_type": "markdown",
   "metadata": {},
   "source": [
    "## Match 'em"
   ]
  },
  {
   "cell_type": "code",
   "execution_count": 7,
   "metadata": {
    "collapsed": false
   },
   "outputs": [],
   "source": [
    "# How many private schools are there? How many public schools are there?\n",
    "public = [name for (name, data) in pubs_by_inst.items() if data['status'] == 0]\n",
    "private = [name for (name, data) in pubs_by_inst.items() if data['status'] == 1]"
   ]
  },
  {
   "cell_type": "code",
   "execution_count": 8,
   "metadata": {
    "collapsed": false
   },
   "outputs": [
    {
     "name": "stdout",
     "output_type": "stream",
     "text": [
      "We will undersample our 151 public schools, since we are limited by 53 private schools\n"
     ]
    }
   ],
   "source": [
    "print(\"We will undersample our %d public schools, since we are limited by %d private schools\" % (len(public), len(private)))"
   ]
  },
  {
   "cell_type": "code",
   "execution_count": 16,
   "metadata": {
    "collapsed": false
   },
   "outputs": [],
   "source": [
    "def return_profiles(pubs_by_inst, public, private):\n",
    "    profiles = np.zeros((len(private)*2, 3), dtype=np.float)\n",
    "\n",
    "    index = 0\n",
    "    for i, inst in enumerate([pubs_by_inst[name] for name in private]):\n",
    "        profiles[i,0] = np.average(inst['total_pubs_by_author'])\n",
    "        profiles[i,1] = float(inst['status'])\n",
    "        profiles[i,2] = inst['rank']   \n",
    "        index = i\n",
    "    \n",
    "    for j, inst in enumerate([pubs_by_inst[name] for name in public[:len(private)]]):\n",
    "        profiles[index + j,0] = np.average(inst['total_pubs_by_author'])\n",
    "        profiles[index + j,1] = float(inst['status'])\n",
    "        profiles[index + j,2] = inst['rank']\n",
    "    \n",
    "    return profiles"
   ]
  },
  {
   "cell_type": "code",
   "execution_count": 18,
   "metadata": {
    "collapsed": false
   },
   "outputs": [
    {
     "name": "stdout",
     "output_type": "stream",
     "text": [
      "(106, array([ 142.54143551,    1.        ,   21.92      ]))\n"
     ]
    }
   ],
   "source": [
    "profiles = return_profiles(pubs_by_inst, public, private)\n",
    "print(len(profiles), profiles[0])"
   ]
  },
  {
   "cell_type": "code",
   "execution_count": 19,
   "metadata": {
    "collapsed": false
   },
   "outputs": [],
   "source": [
    "def get_matched_pairs(P, skip=0.0):\n",
    "    pairs = []\n",
    "    scores = []\n",
    "    num_available = P.shape[0]\n",
    "    available = np.ones(num_available)\n",
    "    print_after = -1\n",
    "    i = 0\n",
    "    \n",
    "    possible_matches = np.floor(0.5*num_available)\n",
    "    grab = (1-skip)*possible_matches\n",
    "    num_matches = 0\n",
    "    \n",
    "    while num_available > 2:\n",
    "        p1 = np.random.choice(np.where(available)[0])\n",
    "        p2 = -1\n",
    "        best_score = np.inf\n",
    "        \n",
    "        for ptemp, is_available in enumerate(available):\n",
    "            # Only consider schools with different public/private status: P[p1,1]\n",
    "            if is_available and p1 != ptemp and P[p1,1] != P[ptemp,1]:\n",
    "                # Only match on rank. Disregard total pubs and status when comparing\n",
    "                score = np.linalg.norm(P[p1,2] - P[ptemp,2]) # + np.random.random() ########\n",
    "                if score < best_score:\n",
    "                    p2 = ptemp\n",
    "                    best_score = score\n",
    "            \n",
    "        i += 1\n",
    "        if i == print_after:\n",
    "            i = 0\n",
    "            print num_available\n",
    "        \n",
    "                \n",
    "        available[p1] = 0\n",
    "        available[p2] = 0\n",
    "        pairs.append((p1, p2))\n",
    "        scores.append(best_score)\n",
    "        num_available -= 2\n",
    "        num_matches += 1\n",
    "        \n",
    "        if num_matches > grab:\n",
    "            break\n",
    "\n",
    "        \n",
    "    if num_available == 2:\n",
    "        p1, p2 = np.where(available)[0]\n",
    "        pairs.append((p1, p2))\n",
    "        score = np.linalg.norm(P[p1,2] - P[p2,2])\n",
    "        scores.append(score)\n",
    "                \n",
    "    return pairs, scores"
   ]
  },
  {
   "cell_type": "code",
   "execution_count": 52,
   "metadata": {
    "collapsed": false
   },
   "outputs": [
    {
     "name": "stdout",
     "output_type": "stream",
     "text": [
      "Portland State University (Public)\t<-->\tColorado School of Mines (Private)\n",
      "Carnegie Mellon University (Private)\t<-->\tMcMaster University (Public)\n",
      "Temple University (Public)\t<-->\tWorcester Polytechnic Institute (Private)\n",
      "University of Notre Dame (Private)\t<-->\tUniversity of North Carolina, Chapel Hill (Public)\n",
      "University of Arkansas, Fayetteville (Public)\t<-->\tVanderbilt University (Private)\n",
      "Northwestern University (Private)\t<-->\tClemson University (Public)\n"
     ]
    }
   ],
   "source": [
    "pairs,_ = get_matched_pairs(profiles, skip=0.9)\n",
    "for p1, p2 in pairs:\n",
    "    if p1 % len(private) == p1:\n",
    "        name1 = private[p1]\n",
    "        name2 = public[(p2 % len(private))]\n",
    "    else:\n",
    "        name1 = public[(p1 % len(private))]\n",
    "        name2 = private[p2]\n",
    "        \n",
    "    print '%s (%s)\\t<-->\\t%s (%s)' % (name1, \n",
    "                                    \"Private\" if profiles[p1, 1] else \"Public\", \n",
    "                                    name2, \n",
    "                                    \"Private\" if profiles[p2, 1] else \"Public\")"
   ]
  },
  {
   "cell_type": "code",
   "execution_count": 55,
   "metadata": {
    "collapsed": false
   },
   "outputs": [
    {
     "name": "stdout",
     "output_type": "stream",
     "text": [
      "6.43082144885e-139\n"
     ]
    }
   ],
   "source": [
    "total_trials = 0\n",
    "num_positive = 0\n",
    "advantages = []\n",
    "\n",
    "for time in xrange(5000):\n",
    "    # Shuffle the public schools selected, so we aren't systematically undersampling some public schools.\n",
    "    np.random.shuffle(public)\n",
    "    profiles = return_profiles(pubs_by_inst, public, private)\n",
    "    \n",
    "    pairs,_ = get_matched_pairs(profiles, skip=0.0)\n",
    "    for p1, p2 in pairs:\n",
    "        # Who published more? Was this a private university?\n",
    "        private_university = np.argmax([profiles[p1,1], profiles[p2,1]])\n",
    "        published_more = np.argmax([profiles[p1,0], profiles[p2,0]])\n",
    "        if private_university == published_more:\n",
    "            num_positive += 1\n",
    "            advantages.append(np.abs(profiles[p1,0] - profiles[p2,0]))\n",
    "        total_trials += 1\n",
    "    \n",
    "print sp.stats.binom_test(num_positive, total_trials, .5, alternative='greater')"
   ]
  },
  {
   "cell_type": "code",
   "execution_count": 61,
   "metadata": {
    "collapsed": false
   },
   "outputs": [
    {
     "name": "stdout",
     "output_type": "stream",
     "text": [
      "138950 265000\n"
     ]
    },
    {
     "data": {
      "text/plain": [
       "0.5243396226415095"
      ]
     },
     "execution_count": 61,
     "metadata": {},
     "output_type": "execute_result"
    }
   ],
   "source": [
    "print num_positive, total_trials\n",
    "float(num_positive) / total_trials"
   ]
  },
  {
   "cell_type": "code",
   "execution_count": 62,
   "metadata": {
    "collapsed": false
   },
   "outputs": [
    {
     "data": {
      "image/png": "[encoded data removed]",
      "text/plain": [
       "<matplotlib.figure.Figure at 0x1156ba4d0>"
      ]
     },
     "metadata": {},
     "output_type": "display_data"
    }
   ],
   "source": [
    "plt.hist(advantages, bins=100)\n",
    "plt.show()"
   ]
  },
  {
   "cell_type": "code",
   "execution_count": 63,
   "metadata": {
    "collapsed": false
   },
   "outputs": [
    {
     "data": {
      "text/plain": [
       "44.297632918685139"
      ]
     },
     "execution_count": 63,
     "metadata": {},
     "output_type": "execute_result"
    }
   ],
   "source": [
    "np.mean(advantages)"
   ]
  },
  {
   "cell_type": "code",
   "execution_count": 64,
   "metadata": {
    "collapsed": false
   },
   "outputs": [
    {
     "data": {
      "text/plain": [
       "34.505149636201764"
      ]
     },
     "execution_count": 64,
     "metadata": {},
     "output_type": "execute_result"
    }
   ],
   "source": [
    "np.median(advantages)"
   ]
  },
  {
   "cell_type": "code",
   "execution_count": 65,
   "metadata": {
    "collapsed": false
   },
   "outputs": [
    {
     "data": {
      "image/png": "[encoded data removed]",
      "text/plain": [
       "<matplotlib.figure.Figure at 0x126acb7d0>"
      ]
     },
     "metadata": {},
     "output_type": "display_data"
    }
   ],
   "source": [
    "T = 100\n",
    "num_matches = len(pairs)\n",
    "scores = np.zeros((T, num_matches), dtype=float)\n",
    "\n",
    "for t in xrange(T):\n",
    "    _,s = get_matched_pairs(profiles)\n",
    "    scores[t, :] = np.array(s)\n",
    "\n",
    "fig, ax = plt.subplots(1,1,figsize=SINGLE_FIG_SIZE)\n",
    "ylo = np.percentile(scores, 25, axis=0)\n",
    "yhi = np.percentile(scores, 75, axis=0)\n",
    "ax.fill_between(xrange(len(ylo)), ylo, yhi, alpha=0.5)\n",
    "ax.plot(np.mean(scores, axis=0), lw=LINE_WIDTH)\n",
    "\n",
    "ax.set_xlabel('Match position')\n",
    "ax.set_ylabel('Absolute error')\n",
    "finalize(ax)\n",
    "plt.show()"
   ]
  },
  {
   "cell_type": "code",
   "execution_count": null,
   "metadata": {
    "collapsed": true
   },
   "outputs": [],
   "source": []
  }
 ],
 "metadata": {
  "kernelspec": {
   "display_name": "Python 2",
   "language": "python",
   "name": "python2"
  },
  "language_info": {
   "codemirror_mode": {
    "name": "ipython",
    "version": 2
   },
   "file_extension": ".py",
   "mimetype": "text/x-python",
   "name": "python",
   "nbconvert_exporter": "python",
   "pygments_lexer": "ipython2",
   "version": "2.7.12"
  }
 },
 "nbformat": 4,
 "nbformat_minor": 0
}
