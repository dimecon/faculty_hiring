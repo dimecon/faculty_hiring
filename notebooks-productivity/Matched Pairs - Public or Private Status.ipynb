{
 "cells": [
  {
   "cell_type": "code",
   "execution_count": 1,
   "metadata": {
    "collapsed": false
   },
   "outputs": [],
   "source": [
    "%matplotlib inline\n",
    "\n",
    "from __future__ import division\n",
    "\n",
    "from faculty_hiring.misc.util import *\n",
    "from faculty_hiring.misc.plotting import *  # Definitions for LABEL_SIZE and such\n",
    "from faculty_hiring.misc.productivity import *\n",
    "from faculty_hiring.parse import faculty_parser, institution_parser\n",
    "from faculty_hiring.parse import load\n",
    "\n",
    "from random import choice\n",
    "import numpy as np\n",
    "import scipy as sp\n",
    "\n",
    "# File locations\n",
    "faculty_file = '/Users/allisonmorgan/Documents/faculty_hiring/publication_data/current_data/faculty_cs_CURRENT.txt'\n",
    "inst_file = '/Users/allisonmorgan/Documents/faculty_hiring/publication_data/current_data/inst_cs_CURRENT.txt'\n",
    "\n",
    "# (Optional, these are for loading publication profiles)\n",
    "dblp_dir = '/Users/allisonmorgan/Documents/faculty_hiring/publication_data/profiles_DBLP_Nov16/'"
   ]
  },
  {
   "cell_type": "code",
   "execution_count": 2,
   "metadata": {
    "collapsed": false
   },
   "outputs": [],
   "source": [
    "inst = institution_parser.parse_institution_records(open(inst_file))\n",
    "asst_faculty = load.load_assistant_profs(open(faculty_file), inst, ranking='pi')\n",
    "ignore = ['All others', 'UNKNOWN', 'CUNY Graduate Center']\n",
    "\n",
    "load.load_all_publications(asst_faculty, dblp_dir)"
   ]
  },
  {
   "cell_type": "markdown",
   "metadata": {},
   "source": [
    "## Profile the Schools"
   ]
  },
  {
   "cell_type": "markdown",
   "metadata": {},
   "source": [
    "Pre-compute all information that we'll need in order to match pairs of schools"
   ]
  },
  {
   "cell_type": "code",
   "execution_count": 3,
   "metadata": {
    "collapsed": false
   },
   "outputs": [],
   "source": [
    "# Number of publications for all current assistant faculty of a university. Adjusted for inflation\n",
    "def publication_data(function = np.average, five_years_post_hire=False):\n",
    "    pubs_by_inst = {}\n",
    "    prestige_map = {}\n",
    "    for (name, inst_data) in inst.items():\n",
    "        if name in ignore:\n",
    "            continue\n",
    "        current_faculty = faculty_at_institution(name, asst_faculty)\n",
    "        n_pubs = []\n",
    "        for person in current_faculty:\n",
    "            start = person.first_asst_job_year\n",
    "            end = person.first_asst_job_year + 5\n",
    "            if person.__contains__('dblp_pubs'):\n",
    "                contribution = 0\n",
    "                for pub in person.dblp_pubs:\n",
    "                    if five_years_post_hire and pub['year'] > end:\n",
    "                        continue\n",
    "                    if 'year' in pub and pub['year'] >= start and pub['year'] < 2012 and pub['pub_type'] in ['inproceedings', 'article']:\n",
    "                        contribution += inflation_adjust(pub['year'])\n",
    "                n_pubs.append(contribution)\n",
    "\n",
    "        pubs_by_inst[name] = {\"total_pubs_by_author\": function(n_pubs), \"status\": inst_data['private'], \"rank\": inst_data['pi']} \n",
    "        prestige_map[inst_data['pi']] = name\n",
    "    \n",
    "    return (pubs_by_inst, prestige_map)\n",
    "\n",
    "pubs_by_inst, prestige_map = publication_data()"
   ]
  },
  {
   "cell_type": "code",
   "execution_count": 4,
   "metadata": {
    "collapsed": false
   },
   "outputs": [],
   "source": [
    "sorted_prestige_keys = sorted(prestige_map.keys())\n",
    "sorted_prestige_names = [prestige_map[key] for key in sorted_prestige_keys]"
   ]
  },
  {
   "cell_type": "markdown",
   "metadata": {},
   "source": [
    "## Match 'em"
   ]
  },
  {
   "cell_type": "code",
   "execution_count": 5,
   "metadata": {
    "collapsed": false
   },
   "outputs": [],
   "source": [
    "# How many private schools are there? How many public schools are there?\n",
    "public = [(name, data) for (name, data) in pubs_by_inst.items() if data['status'] == 0]\n",
    "private = [(name, data) for (name, data) in pubs_by_inst.items() if data['status'] == 1]"
   ]
  },
  {
   "cell_type": "code",
   "execution_count": 6,
   "metadata": {
    "collapsed": false
   },
   "outputs": [
    {
     "name": "stdout",
     "output_type": "stream",
     "text": [
      "There are 151 public schools and 53 private schools (204 total).\n"
     ]
    }
   ],
   "source": [
    "print(\"There are %d public schools and %d private schools (%d total).\" % (len(public), len(private), len(public)+len(private)))"
   ]
  },
  {
   "cell_type": "code",
   "execution_count": 7,
   "metadata": {
    "collapsed": false
   },
   "outputs": [],
   "source": [
    "def get_matched_pairs(public, private, skip=0.0):\n",
    "    pairs = []\n",
    "    scores = []\n",
    "    \n",
    "    available = {}\n",
    "    for name, _ in public:\n",
    "        available[name] = True\n",
    "    \n",
    "    possible_matches = len(private)\n",
    "    grab = (1-skip)*possible_matches\n",
    "    num_matches = 0\n",
    "    \n",
    "    # Go through all private schools\n",
    "    for p1, p1_data in private:\n",
    "        best_score = np.inf\n",
    "        \n",
    "        best_match = \"\"\n",
    "        # Find a matching public school\n",
    "        for p2, p2_data in public:\n",
    "            # Only consider this school if we haven't already deleted it\n",
    "            if available.has_key(p2):\n",
    "                # Match on rank\n",
    "                score = abs(p2_data[\"rank\"] - p1_data[\"rank\"]) # + np.random.random() ########\n",
    "                if score < best_score:\n",
    "                    best_match = p2\n",
    "                    best_score = score\n",
    "        \n",
    "        del available[best_match]\n",
    "        pairs.append((p1, best_match))\n",
    "        scores.append(best_score)\n",
    " \n",
    "        num_matches += 1\n",
    "        if num_matches > grab:\n",
    "            break\n",
    "                \n",
    "    return pairs, scores"
   ]
  },
  {
   "cell_type": "code",
   "execution_count": 8,
   "metadata": {
    "collapsed": false
   },
   "outputs": [
    {
     "name": "stdout",
     "output_type": "stream",
     "text": [
      "Brown University (Private)\t<-->\tUniversity of Texas, Austin (Public)\tScore: 2.480000\n",
      "Rice University (Private)\t<-->\tUCLA (Public)\tScore: 1.380000\n",
      "MIT (Private)\t<-->\tUC Berkeley (Public)\tScore: 1.210000\n",
      "Pace University (Private)\t<-->\tNew Mexico Institute of Mining and Technology (Public)\tScore: 0.120000\n",
      "Polytechnic Institute of NYU (Private)\t<-->\tUniversity of Iowa (Public)\tScore: 0.070000\n",
      "Stanford University (Private)\t<-->\tUniversity of Washington (Public)\tScore: 8.830000\n",
      "Total number of matches made: 6\n"
     ]
    }
   ],
   "source": [
    "pairs, scores = get_matched_pairs(public, private, skip=0.9)\n",
    "for i, (p1, p2) in enumerate(pairs):\n",
    "    print '%s (%s)\\t<-->\\t%s (%s)\\tScore: %f' % (p1, \"Private\", p2, \"Public\", scores[i])\n",
    "print \"Total number of matches made: %d\" % (len(pairs))"
   ]
  },
  {
   "cell_type": "code",
   "execution_count": 9,
   "metadata": {
    "collapsed": false
   },
   "outputs": [
    {
     "name": "stdout",
     "output_type": "stream",
     "text": [
      "1.86064968904e-06\n"
     ]
    }
   ],
   "source": [
    "total_trials = 0\n",
    "num_positive = 0\n",
    "advantages = []\n",
    "\n",
    "for time in xrange(100):\n",
    "    # Shuffle the private schools so we aren't always making the same matches\n",
    "    np.random.shuffle(private)\n",
    "    \n",
    "    pairs,_ = get_matched_pairs(public, private, skip=0.9)\n",
    "    for p1, p2 in pairs:\n",
    "        # Who published more? Was this a private university?\n",
    "        private_university = np.argmax([pubs_by_inst[p1][\"rank\"], pubs_by_inst[p2][\"rank\"]])\n",
    "        published_more = np.argmax([pubs_by_inst[p1][\"total_pubs_by_author\"], pubs_by_inst[p2][\"total_pubs_by_author\"]])\n",
    "        if private_university == published_more:\n",
    "            num_positive += 1\n",
    "            advantages.append(np.abs(pubs_by_inst[p1][\"total_pubs_by_author\"] - pubs_by_inst[p2][\"total_pubs_by_author\"]))\n",
    "        total_trials += 1\n",
    "    \n",
    "print sp.stats.binom_test(num_positive, total_trials, .5, alternative='greater')"
   ]
  },
  {
   "cell_type": "code",
   "execution_count": 10,
   "metadata": {
    "collapsed": false
   },
   "outputs": [
    {
     "name": "stdout",
     "output_type": "stream",
     "text": [
      "0.595\n"
     ]
    }
   ],
   "source": [
    "print float(num_positive) / total_trials"
   ]
  },
  {
   "cell_type": "code",
   "execution_count": 11,
   "metadata": {
    "collapsed": false
   },
   "outputs": [
    {
     "name": "stderr",
     "output_type": "stream",
     "text": [
      "/usr/local/lib/python2.7/site-packages/matplotlib/font_manager.py:1288: UserWarning: findfont: Font family [u'sans-serif'] not found. Falling back to Bitstream Vera Sans\n",
      "  (prop.get_family(), self.defaultFamily[fontext]))\n"
     ]
    },
    {
     "data": {
      "image/png": "[encoded data removed]",
      "text/plain": [
       "<matplotlib.figure.Figure at 0x10efed990>"
      ]
     },
     "metadata": {},
     "output_type": "display_data"
    }
   ],
   "source": [
    "plt.hist(advantages, bins=100)\n",
    "plt.show()"
   ]
  },
  {
   "cell_type": "code",
   "execution_count": 12,
   "metadata": {
    "collapsed": false
   },
   "outputs": [
    {
     "data": {
      "text/plain": [
       "31.512527171489943"
      ]
     },
     "execution_count": 12,
     "metadata": {},
     "output_type": "execute_result"
    }
   ],
   "source": [
    "np.mean(advantages)"
   ]
  },
  {
   "cell_type": "code",
   "execution_count": 13,
   "metadata": {
    "collapsed": false
   },
   "outputs": [
    {
     "data": {
      "text/plain": [
       "27.492167595995376"
      ]
     },
     "execution_count": 13,
     "metadata": {},
     "output_type": "execute_result"
    }
   ],
   "source": [
    "np.median(advantages)"
   ]
  },
  {
   "cell_type": "code",
   "execution_count": 14,
   "metadata": {
    "collapsed": false
   },
   "outputs": [
    {
     "data": {
      "image/png": "[encoded data removed]",
      "text/plain": [
       "<matplotlib.figure.Figure at 0x12299efd0>"
      ]
     },
     "metadata": {},
     "output_type": "display_data"
    }
   ],
   "source": [
    "T = 100\n",
    "scores = np.zeros((T, len(private)), dtype=float)\n",
    "\n",
    "for t in xrange(T):\n",
    "    np.random.shuffle(private)\n",
    "    _, s = get_matched_pairs(public, private)\n",
    "    scores[t, :] = np.array(s)\n",
    "\n",
    "fig, ax = plt.subplots(1, 1, figsize=SINGLE_FIG_SIZE)\n",
    "ylo = np.percentile(scores, 25, axis=0)\n",
    "yhi = np.percentile(scores, 75, axis=0)\n",
    "\n",
    "ax.fill_between(xrange(len(ylo)), ylo, yhi, alpha=0.5)\n",
    "ax.plot(np.median(scores, axis=0), lw=LINE_WIDTH)\n",
    "\n",
    "ax.set_xlim(0, len(ylo))\n",
    "ax.set_xlabel('Match position')\n",
    "ax.set_ylabel('Absolute error')\n",
    "finalize(ax)\n",
    "plt.show()"
   ]
  },
  {
   "cell_type": "markdown",
   "metadata": {
    "collapsed": true
   },
   "source": [
    "### Remove the Top 10"
   ]
  },
  {
   "cell_type": "code",
   "execution_count": 15,
   "metadata": {
    "collapsed": false
   },
   "outputs": [
    {
     "name": "stdout",
     "output_type": "stream",
     "text": [
      "['Stanford University', 'UC Berkeley', 'MIT', 'California Institute of Technology', 'Harvard University', 'Cornell University', 'Carnegie Mellon University', 'Princeton University', 'Yale University', 'University of Washington']\n",
      "False\n"
     ]
    }
   ],
   "source": [
    "# How many private schools are there? How many public schools are there?\n",
    "top = sorted_prestige_names[:10]\n",
    "print(top)\n",
    "bottom_public = [(name, data) for (name, data) in pubs_by_inst.items() if data['status'] == 0 and name not in top]\n",
    "bottom_private = [(name, data) for (name, data) in pubs_by_inst.items() if data['status'] == 1 and name not in top]\n",
    "print('Stanford University' in bottom_public)"
   ]
  },
  {
   "cell_type": "code",
   "execution_count": 16,
   "metadata": {
    "collapsed": false
   },
   "outputs": [
    {
     "name": "stdout",
     "output_type": "stream",
     "text": [
      "Brown University (Private)\t<-->\tUniversity of Texas, Austin (Public)\tScore: 2.480000\n",
      "Rice University (Private)\t<-->\tUCLA (Public)\tScore: 1.380000\n",
      "Pace University (Private)\t<-->\tNew Mexico Institute of Mining and Technology (Public)\tScore: 0.120000\n",
      "Polytechnic Institute of NYU (Private)\t<-->\tUniversity of Iowa (Public)\tScore: 0.070000\n",
      "University of Pennsylvania (Private)\t<-->\tUniversity of Wisconsin, Madison (Public)\tScore: 1.190000\n",
      "Total number of matches made: 5\n"
     ]
    }
   ],
   "source": [
    "pairs, scores = get_matched_pairs(bottom_public, bottom_private, skip=0.9)\n",
    "for i, (p1, p2) in enumerate(pairs):\n",
    "    print '%s (%s)\\t<-->\\t%s (%s)\\tScore: %f' % (p1, \"Private\", p2, \"Public\", scores[i])\n",
    "print \"Total number of matches made: %d\" % (len(pairs))"
   ]
  },
  {
   "cell_type": "code",
   "execution_count": 17,
   "metadata": {
    "collapsed": false
   },
   "outputs": [
    {
     "name": "stdout",
     "output_type": "stream",
     "text": [
      "1.09583794115e-09\n"
     ]
    }
   ],
   "source": [
    "total_trials = 0\n",
    "num_positive = 0\n",
    "advantages = []\n",
    "\n",
    "for time in xrange(100):\n",
    "    # Shuffle the private schools so we aren't always making the same matches\n",
    "    np.random.shuffle(bottom_private)\n",
    "    \n",
    "    pairs,_ = get_matched_pairs(bottom_public, bottom_private, skip=0.9)\n",
    "    for p1, p2 in pairs:\n",
    "        # Who published more? Was this a private university?\n",
    "        private_university = np.argmax([pubs_by_inst[p1][\"rank\"], pubs_by_inst[p2][\"rank\"]])\n",
    "        published_more = np.argmax([pubs_by_inst[p1][\"total_pubs_by_author\"], pubs_by_inst[p2][\"total_pubs_by_author\"]])\n",
    "        if private_university == published_more:\n",
    "            num_positive += 1\n",
    "            advantages.append(np.abs(pubs_by_inst[p1][\"total_pubs_by_author\"] - pubs_by_inst[p2][\"total_pubs_by_author\"]))\n",
    "        total_trials += 1\n",
    "    \n",
    "print sp.stats.binom_test(num_positive, total_trials, .5, alternative='greater')"
   ]
  },
  {
   "cell_type": "code",
   "execution_count": 18,
   "metadata": {
    "collapsed": false
   },
   "outputs": [
    {
     "name": "stdout",
     "output_type": "stream",
     "text": [
      "0.634\n"
     ]
    }
   ],
   "source": [
    "print float(num_positive) / total_trials"
   ]
  },
  {
   "cell_type": "code",
   "execution_count": 23,
   "metadata": {
    "collapsed": false
   },
   "outputs": [
    {
     "name": "stdout",
     "output_type": "stream",
     "text": [
      "['Stanford University', 'UC Berkeley', 'MIT', 'California Institute of Technology', 'Harvard University', 'Cornell University', 'Carnegie Mellon University', 'Princeton University', 'Yale University', 'University of Washington', 'University of Illinois, Urbana Champaign', 'University of Wisconsin, Madison', 'University of Pennsylvania', 'Rice University', 'UCLA', 'New York University', 'University of Chicago', 'University of Texas, Austin', 'Brown University', 'Columbia University']\n",
      "Pace University (Private)\t<-->\tNew Mexico Institute of Mining and Technology (Public)\tScore: 0.120000\n",
      "Polytechnic Institute of NYU (Private)\t<-->\tUniversity of Iowa (Public)\tScore: 0.070000\n",
      "Southern Methodist University (Private)\t<-->\tUC Santa Cruz (Public)\tScore: 0.730000\n",
      "University of Tulsa (Private)\t<-->\tTexas Tech University (Public)\tScore: 0.220000\n",
      "Total number of matches made: 4\n"
     ]
    }
   ],
   "source": [
    "# What about the top 20?\n",
    "top = sorted_prestige_names[:20]\n",
    "print(top)\n",
    "bottom_public = [(name, data) for (name, data) in pubs_by_inst.items() if data['status'] == 0 and name not in top]\n",
    "bottom_private = [(name, data) for (name, data) in pubs_by_inst.items() if data['status'] == 1 and name not in top]\n",
    "\n",
    "pairs, scores = get_matched_pairs(bottom_public, bottom_private, skip=0.9)\n",
    "for i, (p1, p2) in enumerate(pairs):\n",
    "    print '%s (%s)\\t<-->\\t%s (%s)\\tScore: %f' % (p1, \"Private\", p2, \"Public\", scores[i])\n",
    "print \"Total number of matches made: %d\" % (len(pairs))"
   ]
  },
  {
   "cell_type": "code",
   "execution_count": 24,
   "metadata": {
    "collapsed": false
   },
   "outputs": [
    {
     "name": "stdout",
     "output_type": "stream",
     "text": [
      "3.8404047475e-11\n"
     ]
    }
   ],
   "source": [
    "total_trials = 0\n",
    "num_positive = 0\n",
    "advantages = []\n",
    "\n",
    "for time in xrange(100):\n",
    "    # Shuffle the private schools so we aren't always making the same matches\n",
    "    np.random.shuffle(bottom_private)\n",
    "    \n",
    "    pairs,_ = get_matched_pairs(bottom_public, bottom_private, skip=0.9)\n",
    "    for p1, p2 in pairs:\n",
    "        # Who published more? Was this a private university?\n",
    "        private_university = np.argmax([pubs_by_inst[p1][\"rank\"], pubs_by_inst[p2][\"rank\"]])\n",
    "        published_more = np.argmax([pubs_by_inst[p1][\"total_pubs_by_author\"], pubs_by_inst[p2][\"total_pubs_by_author\"]])\n",
    "        if private_university == published_more:\n",
    "            num_positive += 1\n",
    "            advantages.append(np.abs(pubs_by_inst[p1][\"total_pubs_by_author\"] - pubs_by_inst[p2][\"total_pubs_by_author\"]))\n",
    "        total_trials += 1\n",
    "    \n",
    "print sp.stats.binom_test(num_positive, total_trials, .5, alternative='greater')"
   ]
  },
  {
   "cell_type": "code",
   "execution_count": 25,
   "metadata": {
    "collapsed": false
   },
   "outputs": [
    {
     "name": "stdout",
     "output_type": "stream",
     "text": [
      "0.6625\n"
     ]
    }
   ],
   "source": [
    "print float(num_positive) / total_trials"
   ]
  },
  {
   "cell_type": "markdown",
   "metadata": {},
   "source": [
    "### Only Consider Publications Within First Five Years of Hire"
   ]
  },
  {
   "cell_type": "code",
   "execution_count": 19,
   "metadata": {
    "collapsed": true
   },
   "outputs": [],
   "source": [
    "pubs_by_inst_limit, prestige_map_limit = publication_data(five_years_post_hire=True)"
   ]
  },
  {
   "cell_type": "code",
   "execution_count": 20,
   "metadata": {
    "collapsed": false
   },
   "outputs": [
    {
     "name": "stdout",
     "output_type": "stream",
     "text": [
      "University of Chicago (Private)\t<-->\tUniversity of Texas, Austin (Public)\tScore: 0.620000\n",
      "Nova Southeastern University (Private)\t<-->\tUniversity of Arkansas, Fayetteville (Public)\tScore: 0.150000\n",
      "Southern Methodist University (Private)\t<-->\tUC Santa Cruz (Public)\tScore: 0.730000\n",
      "Lehigh University (Private)\t<-->\tCollege of William and Mary (Public)\tScore: 1.270000\n",
      "Toyota Technological Institute at Chicago (Private)\t<-->\tUniversity of Rhode Island (Public)\tScore: 0.160000\n",
      "Clarkson University (Private)\t<-->\tNew Mexico State University (Public)\tScore: 0.180000\n",
      "Total number of matches made: 6\n"
     ]
    }
   ],
   "source": [
    "pairs, scores = get_matched_pairs(public, private, skip=0.9)\n",
    "for i, (p1, p2) in enumerate(pairs):\n",
    "    print '%s (%s)\\t<-->\\t%s (%s)\\tScore: %f' % (p1, \"Private\", p2, \"Public\", scores[i])\n",
    "print \"Total number of matches made: %d\" % (len(pairs))"
   ]
  },
  {
   "cell_type": "code",
   "execution_count": 21,
   "metadata": {
    "collapsed": false
   },
   "outputs": [
    {
     "name": "stdout",
     "output_type": "stream",
     "text": [
      "2.49632598542e-08\n"
     ]
    }
   ],
   "source": [
    "total_trials = 0\n",
    "num_positive = 0\n",
    "advantages = []\n",
    "\n",
    "for time in xrange(100):\n",
    "    # Shuffle the private schools so we aren't always making the same matches\n",
    "    np.random.shuffle(private)\n",
    "    \n",
    "    pairs,_ = get_matched_pairs(public, private, skip=0.9)\n",
    "    for p1, p2 in pairs:\n",
    "        # Who published more? Was this a private university?\n",
    "        private_university = np.argmax([pubs_by_inst_limit[p1][\"rank\"], pubs_by_inst_limit[p2][\"rank\"]])\n",
    "        published_more = np.argmax([pubs_by_inst_limit[p1][\"total_pubs_by_author\"], pubs_by_inst_limit[p2][\"total_pubs_by_author\"]])\n",
    "        if private_university == published_more:\n",
    "            num_positive += 1\n",
    "            advantages.append(np.abs(pubs_by_inst_limit[p1][\"total_pubs_by_author\"] - pubs_by_inst_limit[p2][\"total_pubs_by_author\"]))\n",
    "        total_trials += 1\n",
    "    \n",
    "print sp.stats.binom_test(num_positive, total_trials, .5, alternative='greater')"
   ]
  },
  {
   "cell_type": "code",
   "execution_count": 22,
   "metadata": {
    "collapsed": false
   },
   "outputs": [
    {
     "name": "stdout",
     "output_type": "stream",
     "text": [
      "0.611666666667\n"
     ]
    }
   ],
   "source": [
    "print float(num_positive) / total_trials"
   ]
  },
  {
   "cell_type": "code",
   "execution_count": null,
   "metadata": {
    "collapsed": true
   },
   "outputs": [],
   "source": []
  }
 ],
 "metadata": {
  "kernelspec": {
   "display_name": "Python 2",
   "language": "python",
   "name": "python2"
  },
  "language_info": {
   "codemirror_mode": {
    "name": "ipython",
    "version": 2
   },
   "file_extension": ".py",
   "mimetype": "text/x-python",
   "name": "python",
   "nbconvert_exporter": "python",
   "pygments_lexer": "ipython2",
   "version": "2.7.12"
  }
 },
 "nbformat": 4,
 "nbformat_minor": 0
}
